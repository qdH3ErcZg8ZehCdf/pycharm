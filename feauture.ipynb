{
 "cells": [
  {
   "cell_type": "code",
   "execution_count": null,
   "metadata": {},
   "outputs": [],
   "source": [
    "x = [True, True, False]\n",
    "if any(x):\n",
    "    print(\"Как минимум один True\")\n",
    "\n",
    "if all(x):\n",
    "    print(\"Ни одного False\")\n",
    "\n",
    "if any(x) and not all(x):\n",
    "    print(\"Как минимум один True и один False\")"
   ]
  },
  {
   "cell_type": "code",
   "execution_count": 1,
   "metadata": {},
   "outputs": [
    {
     "data": {
      "text/plain": [
       "Counter({'H': 1,\n",
       "         'e': 1,\n",
       "         'l': 3,\n",
       "         'o': 2,\n",
       "         ' ': 1,\n",
       "         'W': 1,\n",
       "         'r': 1,\n",
       "         'd': 1,\n",
       "         '!': 1})"
      ]
     },
     "execution_count": 1,
     "metadata": {},
     "output_type": "execute_result"
    }
   ],
   "source": [
    "from collections import OrderedDict, Counter\n",
    "\n",
    "# Запоминает порядок добавления ключей\n",
    "x = OrderedDict(a=1, b=2, c=3)\n",
    "\n",
    "# Считает частоту каждого символа\n",
    "y = Counter(\"Hello World!\")\n",
    "y"
   ]
  },
  {
   "cell_type": "code",
   "execution_count": 2,
   "metadata": {},
   "outputs": [
    {
     "name": "stdout",
     "output_type": "stream",
     "text": [
      "👍\n"
     ]
    }
   ],
   "source": [
    "from emoji import emojize\n",
    "\n",
    "print(emojize(\":thumbs_up:\"))"
   ]
  },
  {
   "cell_type": "code",
   "execution_count": 3,
   "metadata": {},
   "outputs": [
    {
     "name": "stderr",
     "output_type": "stream",
     "text": [
      "<ipython-input-3-c39b6560bf0f>:4: UserWarning: Since July 2018 Google requires each request to have an API key. Pass a valid `api_key` to GoogleV3 geocoder to hide this warning. See https://developers.google.com/maps/documentation/geocoding/usage-and-billing\n",
      "  location = GoogleV3().geocode(place)\n"
     ]
    },
    {
     "ename": "GeocoderQueryError",
     "evalue": "Your request was denied.",
     "output_type": "error",
     "traceback": [
      "\u001b[0;31m---------------------------------------------------------------------------\u001b[0m",
      "\u001b[0;31mGeocoderQueryError\u001b[0m                        Traceback (most recent call last)",
      "\u001b[0;32m<ipython-input-3-c39b6560bf0f>\u001b[0m in \u001b[0;36m<module>\u001b[0;34m\u001b[0m\n\u001b[1;32m      2\u001b[0m \u001b[0;34m\u001b[0m\u001b[0m\n\u001b[1;32m      3\u001b[0m \u001b[0mplace\u001b[0m \u001b[0;34m=\u001b[0m \u001b[0;34m\"221b Baker Street, London\"\u001b[0m\u001b[0;34m\u001b[0m\u001b[0;34m\u001b[0m\u001b[0m\n\u001b[0;32m----> 4\u001b[0;31m \u001b[0mlocation\u001b[0m \u001b[0;34m=\u001b[0m \u001b[0mGoogleV3\u001b[0m\u001b[0;34m(\u001b[0m\u001b[0;34m)\u001b[0m\u001b[0;34m.\u001b[0m\u001b[0mgeocode\u001b[0m\u001b[0;34m(\u001b[0m\u001b[0mplace\u001b[0m\u001b[0;34m)\u001b[0m\u001b[0;34m\u001b[0m\u001b[0;34m\u001b[0m\u001b[0m\n\u001b[0m\u001b[1;32m      5\u001b[0m \u001b[0;34m\u001b[0m\u001b[0m\n\u001b[1;32m      6\u001b[0m \u001b[0mprint\u001b[0m\u001b[0;34m(\u001b[0m\u001b[0mlocation\u001b[0m\u001b[0;34m.\u001b[0m\u001b[0maddress\u001b[0m\u001b[0;34m)\u001b[0m\u001b[0;34m\u001b[0m\u001b[0;34m\u001b[0m\u001b[0m\n",
      "\u001b[0;32m/usr/lib/python3.8/site-packages/geopy/geocoders/googlev3.py\u001b[0m in \u001b[0;36mgeocode\u001b[0;34m(self, query, exactly_one, timeout, bounds, region, components, place_id, language, sensor)\u001b[0m\n\u001b[1;32m    270\u001b[0m \u001b[0;34m\u001b[0m\u001b[0m\n\u001b[1;32m    271\u001b[0m         \u001b[0mlogger\u001b[0m\u001b[0;34m.\u001b[0m\u001b[0mdebug\u001b[0m\u001b[0;34m(\u001b[0m\u001b[0;34m\"%s.geocode: %s\"\u001b[0m\u001b[0;34m,\u001b[0m \u001b[0mself\u001b[0m\u001b[0;34m.\u001b[0m\u001b[0m__class__\u001b[0m\u001b[0;34m.\u001b[0m\u001b[0m__name__\u001b[0m\u001b[0;34m,\u001b[0m \u001b[0murl\u001b[0m\u001b[0;34m)\u001b[0m\u001b[0;34m\u001b[0m\u001b[0;34m\u001b[0m\u001b[0m\n\u001b[0;32m--> 272\u001b[0;31m         return self._parse_json(\n\u001b[0m\u001b[1;32m    273\u001b[0m             \u001b[0mself\u001b[0m\u001b[0;34m.\u001b[0m\u001b[0m_call_geocoder\u001b[0m\u001b[0;34m(\u001b[0m\u001b[0murl\u001b[0m\u001b[0;34m,\u001b[0m \u001b[0mtimeout\u001b[0m\u001b[0;34m=\u001b[0m\u001b[0mtimeout\u001b[0m\u001b[0;34m)\u001b[0m\u001b[0;34m,\u001b[0m \u001b[0mexactly_one\u001b[0m\u001b[0;34m\u001b[0m\u001b[0;34m\u001b[0m\u001b[0m\n\u001b[1;32m    274\u001b[0m         )\n",
      "\u001b[0;32m/usr/lib/python3.8/site-packages/geopy/geocoders/googlev3.py\u001b[0m in \u001b[0;36m_parse_json\u001b[0;34m(self, page, exactly_one)\u001b[0m\n\u001b[1;32m    478\u001b[0m         \u001b[0mplaces\u001b[0m \u001b[0;34m=\u001b[0m \u001b[0mpage\u001b[0m\u001b[0;34m.\u001b[0m\u001b[0mget\u001b[0m\u001b[0;34m(\u001b[0m\u001b[0;34m'results'\u001b[0m\u001b[0;34m,\u001b[0m \u001b[0;34m[\u001b[0m\u001b[0;34m]\u001b[0m\u001b[0;34m)\u001b[0m\u001b[0;34m\u001b[0m\u001b[0;34m\u001b[0m\u001b[0m\n\u001b[1;32m    479\u001b[0m         \u001b[0;32mif\u001b[0m \u001b[0;32mnot\u001b[0m \u001b[0mlen\u001b[0m\u001b[0;34m(\u001b[0m\u001b[0mplaces\u001b[0m\u001b[0;34m)\u001b[0m\u001b[0;34m:\u001b[0m\u001b[0;34m\u001b[0m\u001b[0;34m\u001b[0m\u001b[0m\n\u001b[0;32m--> 480\u001b[0;31m             \u001b[0mself\u001b[0m\u001b[0;34m.\u001b[0m\u001b[0m_check_status\u001b[0m\u001b[0;34m(\u001b[0m\u001b[0mpage\u001b[0m\u001b[0;34m.\u001b[0m\u001b[0mget\u001b[0m\u001b[0;34m(\u001b[0m\u001b[0;34m'status'\u001b[0m\u001b[0;34m)\u001b[0m\u001b[0;34m)\u001b[0m\u001b[0;34m\u001b[0m\u001b[0;34m\u001b[0m\u001b[0m\n\u001b[0m\u001b[1;32m    481\u001b[0m             \u001b[0;32mreturn\u001b[0m \u001b[0;32mNone\u001b[0m\u001b[0;34m\u001b[0m\u001b[0;34m\u001b[0m\u001b[0m\n\u001b[1;32m    482\u001b[0m \u001b[0;34m\u001b[0m\u001b[0m\n",
      "\u001b[0;32m/usr/lib/python3.8/site-packages/geopy/geocoders/googlev3.py\u001b[0m in \u001b[0;36m_check_status\u001b[0;34m(status)\u001b[0m\n\u001b[1;32m    508\u001b[0m             )\n\u001b[1;32m    509\u001b[0m         \u001b[0;32melif\u001b[0m \u001b[0mstatus\u001b[0m \u001b[0;34m==\u001b[0m \u001b[0;34m'REQUEST_DENIED'\u001b[0m\u001b[0;34m:\u001b[0m\u001b[0;34m\u001b[0m\u001b[0;34m\u001b[0m\u001b[0m\n\u001b[0;32m--> 510\u001b[0;31m             raise GeocoderQueryError(\n\u001b[0m\u001b[1;32m    511\u001b[0m                 \u001b[0;34m'Your request was denied.'\u001b[0m\u001b[0;34m\u001b[0m\u001b[0;34m\u001b[0m\u001b[0m\n\u001b[1;32m    512\u001b[0m             )\n",
      "\u001b[0;31mGeocoderQueryError\u001b[0m: Your request was denied."
     ]
    }
   ],
   "source": [
    "from geopy import GoogleV3\n",
    "\n",
    "place = \"221b Baker Street, London\"\n",
    "location = GoogleV3().geocode(place)\n",
    "\n",
    "print(location.address)\n",
    "print(location.location)"
   ]
  },
  {
   "cell_type": "code",
   "execution_count": null,
   "metadata": {},
   "outputs": [],
   "source": [
    "howdoi QUERY\n",
    "\n",
    "# howdoi \"vertical align css\"\n",
    "#$ howdoi for loop in java\n",
    "#$ howdoi undo commits in git"
   ]
  },
  {
   "cell_type": "code",
   "execution_count": 4,
   "metadata": {},
   "outputs": [
    {
     "name": "stdout",
     "output_type": "stream",
     "text": [
      "def getsource(object):\n",
      "    \"\"\"Return the text of the source code for an object.\n",
      "\n",
      "    The argument may be a module, class, method, function, traceback, frame,\n",
      "    or code object.  The source code is returned as a single string.  An\n",
      "    OSError is raised if the source code cannot be retrieved.\"\"\"\n",
      "    lines, lnum = getsourcelines(object)\n",
      "    return ''.join(lines)\n",
      "\n",
      "<module 'inspect' from '/usr/lib/python3.8/inspect.py'>\n",
      "5\n"
     ]
    }
   ],
   "source": [
    "import inspect\n",
    "\n",
    "print(inspect.getsource(inspect.getsource))\n",
    "print(inspect.getmodule(inspect.getmodule))\n",
    "print(inspect.currentframe().f_lineno)"
   ]
  },
  {
   "cell_type": "code",
   "execution_count": 5,
   "metadata": {},
   "outputs": [
    {
     "name": "stdout",
     "output_type": "stream",
     "text": [
      "Добро пожаловать в Лондон\n",
      "Добро пожаловать в Москва\n",
      "Добро пожаловать в Берлин\n"
     ]
    }
   ],
   "source": [
    "numbers = [1, 2, 3, 4, 5, 6, 7]\n",
    "evens = [x for x in numbers if x % 2 == 0]\n",
    "odds = [y for y in numbers if y not in evens]\n",
    "\n",
    "cities = ['Лондон', 'Москва', 'Берлин']\n",
    "\n",
    "def visit(city):\n",
    "    print(\"Добро пожаловать в\", city)\n",
    "\n",
    "for city in cities:\n",
    "    visit(city)"
   ]
  },
  {
   "cell_type": "code",
   "execution_count": 7,
   "metadata": {},
   "outputs": [
    {
     "ename": "JSONDecodeError",
     "evalue": "Expecting value: line 1 column 1 (char 0)",
     "output_type": "error",
     "traceback": [
      "\u001b[0;31m---------------------------------------------------------------------------\u001b[0m",
      "\u001b[0;31mJSONDecodeError\u001b[0m                           Traceback (most recent call last)",
      "\u001b[0;32m<ipython-input-7-212ecb94ca82>\u001b[0m in \u001b[0;36m<module>\u001b[0;34m\u001b[0m\n\u001b[1;32m      3\u001b[0m \u001b[0;34m\u001b[0m\u001b[0m\n\u001b[1;32m      4\u001b[0m \u001b[0murl\u001b[0m \u001b[0;34m=\u001b[0m \u001b[0;34m'http://ura.news'\u001b[0m\u001b[0;34m\u001b[0m\u001b[0;34m\u001b[0m\u001b[0m\n\u001b[0;32m----> 5\u001b[0;31m \u001b[0musers\u001b[0m \u001b[0;34m=\u001b[0m \u001b[0mrequests\u001b[0m\u001b[0;34m.\u001b[0m\u001b[0mget\u001b[0m\u001b[0;34m(\u001b[0m\u001b[0murl\u001b[0m\u001b[0;34m)\u001b[0m\u001b[0;34m.\u001b[0m\u001b[0mjson\u001b[0m\u001b[0;34m(\u001b[0m\u001b[0;34m)\u001b[0m\u001b[0;34m\u001b[0m\u001b[0;34m\u001b[0m\u001b[0m\n\u001b[0m\u001b[1;32m      6\u001b[0m \u001b[0;34m\u001b[0m\u001b[0m\n\u001b[1;32m      7\u001b[0m \u001b[0mpprint\u001b[0m\u001b[0;34m.\u001b[0m\u001b[0mpprint\u001b[0m\u001b[0;34m(\u001b[0m\u001b[0musers\u001b[0m\u001b[0;34m)\u001b[0m\u001b[0;34m\u001b[0m\u001b[0;34m\u001b[0m\u001b[0m\n",
      "\u001b[0;32m/usr/lib/python3.8/site-packages/requests/models.py\u001b[0m in \u001b[0;36mjson\u001b[0;34m(self, **kwargs)\u001b[0m\n\u001b[1;32m    895\u001b[0m                     \u001b[0;31m# used.\u001b[0m\u001b[0;34m\u001b[0m\u001b[0;34m\u001b[0m\u001b[0;34m\u001b[0m\u001b[0m\n\u001b[1;32m    896\u001b[0m                     \u001b[0;32mpass\u001b[0m\u001b[0;34m\u001b[0m\u001b[0;34m\u001b[0m\u001b[0m\n\u001b[0;32m--> 897\u001b[0;31m         \u001b[0;32mreturn\u001b[0m \u001b[0mcomplexjson\u001b[0m\u001b[0;34m.\u001b[0m\u001b[0mloads\u001b[0m\u001b[0;34m(\u001b[0m\u001b[0mself\u001b[0m\u001b[0;34m.\u001b[0m\u001b[0mtext\u001b[0m\u001b[0;34m,\u001b[0m \u001b[0;34m**\u001b[0m\u001b[0mkwargs\u001b[0m\u001b[0;34m)\u001b[0m\u001b[0;34m\u001b[0m\u001b[0;34m\u001b[0m\u001b[0m\n\u001b[0m\u001b[1;32m    898\u001b[0m \u001b[0;34m\u001b[0m\u001b[0m\n\u001b[1;32m    899\u001b[0m     \u001b[0;34m@\u001b[0m\u001b[0mproperty\u001b[0m\u001b[0;34m\u001b[0m\u001b[0;34m\u001b[0m\u001b[0m\n",
      "\u001b[0;32m/usr/lib/python3.8/json/__init__.py\u001b[0m in \u001b[0;36mloads\u001b[0;34m(s, cls, object_hook, parse_float, parse_int, parse_constant, object_pairs_hook, **kw)\u001b[0m\n\u001b[1;32m    355\u001b[0m             \u001b[0mparse_int\u001b[0m \u001b[0;32mis\u001b[0m \u001b[0;32mNone\u001b[0m \u001b[0;32mand\u001b[0m \u001b[0mparse_float\u001b[0m \u001b[0;32mis\u001b[0m \u001b[0;32mNone\u001b[0m \u001b[0;32mand\u001b[0m\u001b[0;34m\u001b[0m\u001b[0;34m\u001b[0m\u001b[0m\n\u001b[1;32m    356\u001b[0m             parse_constant is None and object_pairs_hook is None and not kw):\n\u001b[0;32m--> 357\u001b[0;31m         \u001b[0;32mreturn\u001b[0m \u001b[0m_default_decoder\u001b[0m\u001b[0;34m.\u001b[0m\u001b[0mdecode\u001b[0m\u001b[0;34m(\u001b[0m\u001b[0ms\u001b[0m\u001b[0;34m)\u001b[0m\u001b[0;34m\u001b[0m\u001b[0;34m\u001b[0m\u001b[0m\n\u001b[0m\u001b[1;32m    358\u001b[0m     \u001b[0;32mif\u001b[0m \u001b[0mcls\u001b[0m \u001b[0;32mis\u001b[0m \u001b[0;32mNone\u001b[0m\u001b[0;34m:\u001b[0m\u001b[0;34m\u001b[0m\u001b[0;34m\u001b[0m\u001b[0m\n\u001b[1;32m    359\u001b[0m         \u001b[0mcls\u001b[0m \u001b[0;34m=\u001b[0m \u001b[0mJSONDecoder\u001b[0m\u001b[0;34m\u001b[0m\u001b[0;34m\u001b[0m\u001b[0m\n",
      "\u001b[0;32m/usr/lib/python3.8/json/decoder.py\u001b[0m in \u001b[0;36mdecode\u001b[0;34m(self, s, _w)\u001b[0m\n\u001b[1;32m    335\u001b[0m \u001b[0;34m\u001b[0m\u001b[0m\n\u001b[1;32m    336\u001b[0m         \"\"\"\n\u001b[0;32m--> 337\u001b[0;31m         \u001b[0mobj\u001b[0m\u001b[0;34m,\u001b[0m \u001b[0mend\u001b[0m \u001b[0;34m=\u001b[0m \u001b[0mself\u001b[0m\u001b[0;34m.\u001b[0m\u001b[0mraw_decode\u001b[0m\u001b[0;34m(\u001b[0m\u001b[0ms\u001b[0m\u001b[0;34m,\u001b[0m \u001b[0midx\u001b[0m\u001b[0;34m=\u001b[0m\u001b[0m_w\u001b[0m\u001b[0;34m(\u001b[0m\u001b[0ms\u001b[0m\u001b[0;34m,\u001b[0m \u001b[0;36m0\u001b[0m\u001b[0;34m)\u001b[0m\u001b[0;34m.\u001b[0m\u001b[0mend\u001b[0m\u001b[0;34m(\u001b[0m\u001b[0;34m)\u001b[0m\u001b[0;34m)\u001b[0m\u001b[0;34m\u001b[0m\u001b[0;34m\u001b[0m\u001b[0m\n\u001b[0m\u001b[1;32m    338\u001b[0m         \u001b[0mend\u001b[0m \u001b[0;34m=\u001b[0m \u001b[0m_w\u001b[0m\u001b[0;34m(\u001b[0m\u001b[0ms\u001b[0m\u001b[0;34m,\u001b[0m \u001b[0mend\u001b[0m\u001b[0;34m)\u001b[0m\u001b[0;34m.\u001b[0m\u001b[0mend\u001b[0m\u001b[0;34m(\u001b[0m\u001b[0;34m)\u001b[0m\u001b[0;34m\u001b[0m\u001b[0;34m\u001b[0m\u001b[0m\n\u001b[1;32m    339\u001b[0m         \u001b[0;32mif\u001b[0m \u001b[0mend\u001b[0m \u001b[0;34m!=\u001b[0m \u001b[0mlen\u001b[0m\u001b[0;34m(\u001b[0m\u001b[0ms\u001b[0m\u001b[0;34m)\u001b[0m\u001b[0;34m:\u001b[0m\u001b[0;34m\u001b[0m\u001b[0;34m\u001b[0m\u001b[0m\n",
      "\u001b[0;32m/usr/lib/python3.8/json/decoder.py\u001b[0m in \u001b[0;36mraw_decode\u001b[0;34m(self, s, idx)\u001b[0m\n\u001b[1;32m    353\u001b[0m             \u001b[0mobj\u001b[0m\u001b[0;34m,\u001b[0m \u001b[0mend\u001b[0m \u001b[0;34m=\u001b[0m \u001b[0mself\u001b[0m\u001b[0;34m.\u001b[0m\u001b[0mscan_once\u001b[0m\u001b[0;34m(\u001b[0m\u001b[0ms\u001b[0m\u001b[0;34m,\u001b[0m \u001b[0midx\u001b[0m\u001b[0;34m)\u001b[0m\u001b[0;34m\u001b[0m\u001b[0;34m\u001b[0m\u001b[0m\n\u001b[1;32m    354\u001b[0m         \u001b[0;32mexcept\u001b[0m \u001b[0mStopIteration\u001b[0m \u001b[0;32mas\u001b[0m \u001b[0merr\u001b[0m\u001b[0;34m:\u001b[0m\u001b[0;34m\u001b[0m\u001b[0;34m\u001b[0m\u001b[0m\n\u001b[0;32m--> 355\u001b[0;31m             \u001b[0;32mraise\u001b[0m \u001b[0mJSONDecodeError\u001b[0m\u001b[0;34m(\u001b[0m\u001b[0;34m\"Expecting value\"\u001b[0m\u001b[0;34m,\u001b[0m \u001b[0ms\u001b[0m\u001b[0;34m,\u001b[0m \u001b[0merr\u001b[0m\u001b[0;34m.\u001b[0m\u001b[0mvalue\u001b[0m\u001b[0;34m)\u001b[0m \u001b[0;32mfrom\u001b[0m \u001b[0;32mNone\u001b[0m\u001b[0;34m\u001b[0m\u001b[0;34m\u001b[0m\u001b[0m\n\u001b[0m\u001b[1;32m    356\u001b[0m         \u001b[0;32mreturn\u001b[0m \u001b[0mobj\u001b[0m\u001b[0;34m,\u001b[0m \u001b[0mend\u001b[0m\u001b[0;34m\u001b[0m\u001b[0;34m\u001b[0m\u001b[0m\n",
      "\u001b[0;31mJSONDecodeError\u001b[0m: Expecting value: line 1 column 1 (char 0)"
     ]
    }
   ],
   "source": [
    "import requests\n",
    "import pprint\n",
    "\n",
    "url = 'http://ura.news'\n",
    "users = requests.get(url).json()\n",
    "\n",
    "pprint.pprint(users)"
   ]
  },
  {
   "cell_type": "code",
   "execution_count": 9,
   "metadata": {},
   "outputs": [
    {
     "data": {
      "text/plain": [
       "'Hello, Gera!'"
      ]
     },
     "execution_count": 9,
     "metadata": {},
     "output_type": "execute_result"
    }
   ],
   "source": [
    "name = 'Gera'\n",
    "'Hello, {}!'.format('Gera')"
   ]
  },
  {
   "cell_type": "code",
   "execution_count": 10,
   "metadata": {},
   "outputs": [
    {
     "name": "stdout",
     "output_type": "stream",
     "text": [
      "              *               \n",
      "              **              \n",
      "             ***              \n",
      "             ****             \n",
      "            *****             \n",
      "            ******            \n",
      "           *******            \n"
     ]
    }
   ],
   "source": [
    "n = 7 #int(input(\"Ширина ромба\"))\n",
    "\n",
    "s = \"*\"\n",
    "for i in range(0,n):\n",
    "    print('{:^30}'.format(s))\n",
    "    s += \"*\"\n",
    "    "
   ]
  },
  {
   "cell_type": "code",
   "execution_count": 11,
   "metadata": {},
   "outputs": [
    {
     "name": "stdout",
     "output_type": "stream",
     "text": [
      "a =--5 руб a =05яяяя"
     ]
    }
   ],
   "source": [
    "a = 5\n",
    "print(\"a =\", a, sep='--', end=' руб ')\n",
    "print(\"a =\", a, sep='0', end='яяяя')"
   ]
  },
  {
   "cell_type": "code",
   "execution_count": 12,
   "metadata": {},
   "outputs": [
    {
     "name": "stdout",
     "output_type": "stream",
     "text": [
      "    ****\n",
      "    ****\n",
      "    ****\n",
      "    ****\n",
      "    ****\n",
      "    ****\n",
      "    ****\n",
      "    ****\n",
      "************\n",
      "    ****\n",
      "    ****\n",
      "    ****\n"
     ]
    }
   ],
   "source": [
    "for i in range(12):\n",
    "    if 7<i<9:\n",
    "        print(\"*\"*12)\n",
    "    else:\n",
    "        print(\" \"*4+\"*\"*4)"
   ]
  },
  {
   "cell_type": "code",
   "execution_count": 14,
   "metadata": {},
   "outputs": [
    {
     "name": "stdout",
     "output_type": "stream",
     "text": [
      "Введите ширину ромба: 6\n",
      "      \n",
      "     * \n",
      "    * * \n",
      "   * * * \n",
      "  * * * * \n",
      " * * * * * \n",
      "* * * * * * \n",
      " * * * * * \n",
      "  * * * * \n",
      "   * * * \n",
      "    * * \n",
      "     * \n"
     ]
    }
   ],
   "source": [
    "n = int(input(\"Введите ширину ромба: \"))\n",
    "for i in range(0,n+1):\n",
    "    for j in range(0,n-i):\n",
    "        print(end=\" \")\n",
    "    for j in range(0,i):\n",
    "        print(\"*\",end=\" \")\n",
    "    print()\n",
    "\n",
    "for i in range(n-1,0,-1):\n",
    "    for j in range(0,n-i):\n",
    "        print(end=\" \")\n",
    "    for j in range(0,i):\n",
    "        print(\"*\",end=\" \")\n",
    "    print()\n"
   ]
  },
  {
   "cell_type": "markdown",
   "metadata": {},
   "source": [
    "###### "
   ]
  },
  {
   "cell_type": "code",
   "execution_count": 15,
   "metadata": {},
   "outputs": [
    {
     "name": "stdout",
     "output_type": "stream",
     "text": [
      "..OO.OO..\n",
      ".OOOOOOO.\n",
      ".OOOOOOO.\n",
      "..OOOOO..\n",
      "...OOO...\n",
      "....O....\n"
     ]
    }
   ],
   "source": [
    "grid =[['.', '.', '.', '.', '.', '.'],\n",
    "       ['.', 'O', 'O', '.', '.', '.'],\n",
    "       ['O', 'O', 'O', 'O', '.', '.'],\n",
    "       ['O', 'O', 'O', 'O', 'O', '.'],\n",
    "       ['.', 'O', 'O', 'O', 'O', 'O'],\n",
    "       ['O', 'O', 'O', 'O', 'O', '.'],\n",
    "       ['O', 'O', 'O', 'O', '.', '.'],\n",
    "       ['.', 'O', 'O', '.', '.', '.'],\n",
    "       ['.', '.', '.', '.', '.', '.']]\n",
    "\n",
    "for i in range(len(grid[0])):\n",
    "    for j in range(len(grid)):\n",
    "        print(grid[j][i], end='')\n",
    "    print()"
   ]
  },
  {
   "cell_type": "code",
   "execution_count": 17,
   "metadata": {},
   "outputs": [
    {
     "name": "stdout",
     "output_type": "stream",
     "text": [
      "    ****\n",
      "    ****\n",
      "    ****\n",
      "    ****\n",
      "************\n",
      "************\n",
      "************\n",
      "************\n",
      "    ****\n",
      "    ****\n",
      "    ****\n",
      "    ****\n"
     ]
    }
   ],
   "source": [
    "for i in range(12):\n",
    "    if 3 < i < 8:\n",
    "        print('*'*12)\n",
    "    else:\n",
    "        print(' '*4+'*'*4)"
   ]
  },
  {
   "cell_type": "code",
   "execution_count": 16,
   "metadata": {},
   "outputs": [
    {
     "name": "stdout",
     "output_type": "stream",
     "text": [
      "    ****\n",
      "    ****\n",
      "    ****\n",
      "    ****\n",
      "************\n",
      "************\n",
      "************\n",
      "************\n",
      "    ****\n",
      "    ****\n",
      "    ****\n",
      "    ****\n"
     ]
    }
   ],
   "source": [
    "\n",
    "\n",
    "for line in range(4):\n",
    "    print(\"    ****\")\n",
    "for line in range(4):\n",
    "    print(\"************\")\n",
    "for line in range(4):\n",
    "    print(\"    ****\")\n",
    "\n"
   ]
  },
  {
   "cell_type": "code",
   "execution_count": 18,
   "metadata": {},
   "outputs": [
    {
     "name": "stdout",
     "output_type": "stream",
     "text": [
      "😊\n"
     ]
    }
   ],
   "source": [
    "# for i in range(128500,128600):\n",
    "#     print(chr(i))\n",
    "print(chr(128522))"
   ]
  },
  {
   "cell_type": "code",
   "execution_count": 20,
   "metadata": {},
   "outputs": [
    {
     "name": "stdout",
     "output_type": "stream",
     "text": [
      "*     *\n",
      " *     *\n",
      "  *     *\n",
      "   *     *\n",
      "    *     *\n",
      "     *     *\n",
      "      *     *\n",
      "       *     *\n"
     ]
    }
   ],
   "source": [
    "size = 7\n",
    "inner_size = size - 2\n",
    "print ('*',\" \" * (size - 4),\"*\")\n",
    "for i in range(size):\n",
    "    print (\" \" * i,'*' + ' ' * inner_size + '*')"
   ]
  },
  {
   "cell_type": "code",
   "execution_count": 21,
   "metadata": {
    "scrolled": true
   },
   "outputs": [
    {
     "name": "stdout",
     "output_type": "stream",
     "text": [
      "[['X', 0, 0], ['X', 0, 1], ['X', 0, 2], ['X', 0, 3], ['X', 0, 4], ['X', 0, 5], ['X', 0, 6]]\n",
      "[['X', 1, 0], ['X', 1, 1], ['X', 1, 2], ['X', 1, 3], ['X', 1, 4], ['X', 1, 5], ['X', 1, 6]]\n",
      "[['X', 2, 0], ['X', 2, 1], ['X', 2, 2], ['X', 2, 3], ['X', 2, 4], ['X', 2, 5], ['X', 2, 6]]\n",
      "[['X', 3, 0], ['X', 3, 1], ['X', 3, 2], ['X', 3, 3], ['X', 3, 4], ['X', 3, 5], ['X', 3, 6]]\n",
      "[['X', 4, 0], ['X', 4, 1], ['X', 4, 2], ['X', 4, 3], ['X', 4, 4], ['X', 4, 5], ['X', 4, 6]]\n",
      "[['X', 5, 0], ['X', 5, 1], ['X', 5, 2], ['X', 5, 3], ['X', 5, 4], ['X', 5, 5], ['X', 5, 6]]\n",
      "[['X', 6, 0], ['X', 6, 1], ['X', 6, 2], ['X', 6, 3], ['X', 6, 4], ['X', 6, 5], ['X', 6, 6]]\n"
     ]
    }
   ],
   "source": [
    "n = 7\n",
    "\n",
    "\n",
    "matrix = []\n",
    "for x in range(0,n):\n",
    "    matrix = [ [ \" \" for y in range(n)] for x in range(n)]\n",
    "\n",
    "for m in range(0,n):\n",
    "    for z in range(0,n):\n",
    "        matrix[m][z] = [\"X\",m,z]\n",
    "    \n",
    "for y in range(0,n):\n",
    "    print(matrix[y])\n",
    "    "
   ]
  },
  {
   "cell_type": "code",
   "execution_count": 22,
   "metadata": {},
   "outputs": [
    {
     "ename": "ModuleNotFoundError",
     "evalue": "No module named 'bs4'",
     "output_type": "error",
     "traceback": [
      "\u001b[0;31m---------------------------------------------------------------------------\u001b[0m",
      "\u001b[0;31mModuleNotFoundError\u001b[0m                       Traceback (most recent call last)",
      "\u001b[0;32m<ipython-input-22-6e5a72472f6e>\u001b[0m in \u001b[0;36m<module>\u001b[0;34m\u001b[0m\n\u001b[1;32m      1\u001b[0m \u001b[0;32mimport\u001b[0m \u001b[0mrequests\u001b[0m\u001b[0;34m\u001b[0m\u001b[0;34m\u001b[0m\u001b[0m\n\u001b[0;32m----> 2\u001b[0;31m \u001b[0;32mfrom\u001b[0m \u001b[0mbs4\u001b[0m \u001b[0;32mimport\u001b[0m \u001b[0mBeautifulSoup\u001b[0m\u001b[0;34m\u001b[0m\u001b[0;34m\u001b[0m\u001b[0m\n\u001b[0m\u001b[1;32m      3\u001b[0m \u001b[0;34m\u001b[0m\u001b[0m\n\u001b[1;32m      4\u001b[0m \u001b[0murl\u001b[0m \u001b[0;34m=\u001b[0m \u001b[0;34m'https://coinmarketcap.com'\u001b[0m\u001b[0;34m\u001b[0m\u001b[0;34m\u001b[0m\u001b[0m\n\u001b[1;32m      5\u001b[0m \u001b[0;34m\u001b[0m\u001b[0m\n",
      "\u001b[0;31mModuleNotFoundError\u001b[0m: No module named 'bs4'"
     ]
    }
   ],
   "source": [
    "import requests\n",
    "from bs4 import BeautifulSoup\n",
    "\n",
    "url = 'https://coinmarketcap.com'\n",
    "\n",
    "soup = BeautifulSoup(requests.get(url).text, 'lxml')\n",
    "\n",
    "for tr in soup.select('#currencies tr'):\n",
    "    if not tr.select('td'):\n",
    "        continue\n",
    "\n",
    "    for i, td in enumerate(tr.select('td')[:-2]):\n",
    "        txt = td.text.replace('\\n', ' ').replace('*', '').strip()\n",
    "        if i == 0:\n",
    "            print('{: ^4}'.format(txt), end='|')\n",
    "        else:\n",
    "            print('{: ^24}'.format(txt), end='|')\n",
    "    print()\n"
   ]
  },
  {
   "cell_type": "code",
   "execution_count": 23,
   "metadata": {},
   "outputs": [
    {
     "name": "stdout",
     "output_type": "stream",
     "text": [
      "Введите число: 5\n",
      "[25]\n",
      "25\n"
     ]
    }
   ],
   "source": [
    "n = input(\"Введите число: \")\n",
    "list_squared = []\n",
    "total = 0\n",
    "for i in n:\n",
    "    var = int(i) ** 2\n",
    "    list_squared.append(var)\n",
    "    total += var\n",
    "    \n",
    "print(list_squared)\n",
    "print(total)\n"
   ]
  },
  {
   "cell_type": "code",
   "execution_count": null,
   "metadata": {},
   "outputs": [],
   "source": []
  },
  {
   "cell_type": "markdown",
   "metadata": {},
   "source": [
    "# После 4 ДЗ"
   ]
  },
  {
   "cell_type": "markdown",
   "metadata": {},
   "source": [
    "### распаковка параметров в функцию def foo(*my_list)  - список\n",
    "###                                                                 def foo(**my_dict)\n",
    "### при передаче дополнительного параметра нужно вводить параметры именованные x=2,y=3, потому что при таком вводе последовательность вводимых аргументов не важна\n",
    "\n",
    "###  в параметрах лучше не создавать списки. \n",
    "### def process(element = 1,list = none):\n",
    "###    if list = none:\n",
    "###        list = []\n"
   ]
  },
  {
   "cell_type": "markdown",
   "metadata": {},
   "source": [
    "Произвольное число параметров - \n",
    "def all_do_it(*args):\n",
    "    print(args)\n",
    "Параметры запаковываются в тьюплы\n",
    "символ распаковки ставится при вызове \n",
    "all_do_it(*[1,2,3])\n",
    "\n",
    "args, kwargs = list, dict\n",
    "for key,value in kwargs.items():\n",
    "    print(\"именованный аргумент\"б key, \" = \", value)"
   ]
  },
  {
   "cell_type": "code",
   "execution_count": null,
   "metadata": {},
   "outputs": [],
   "source": [
    "# поиск в DOM HTML\n",
    "\n",
    "def find_element(tree, element_name):\n",
    "    if element_name in tree:\n",
    "        return tree[element_name]\n",
    "    for key,sub_tree in tree.items():\n",
    "        if instance(sub_tree,dict):\n",
    "            result = find_element(tree = sub_tree, element_name=element_name)\n",
    "            if result:\n",
    "                break\n",
    "    else:\n",
    "        result = None\n",
    "    return result\n",
    "\n",
    "res = find_element(tree = html_dom, element_name='title')\n",
    "res\n",
    "\n",
    "\n",
    "\n",
    "\n",
    "\n"
   ]
  },
  {
   "cell_type": "code",
   "execution_count": 1,
   "metadata": {},
   "outputs": [
    {
     "name": "stdout",
     "output_type": "stream",
     "text": [
      "1\n"
     ]
    }
   ],
   "source": [
    "x = 1\n",
    "if bool(x):\n",
    "    print(x)"
   ]
  },
  {
   "cell_type": "code",
   "execution_count": 2,
   "metadata": {},
   "outputs": [
    {
     "data": {
      "text/plain": [
       "{1, 2, 3, 4, 5}"
      ]
     },
     "execution_count": 2,
     "metadata": {},
     "output_type": "execute_result"
    }
   ],
   "source": [
    "my_z = (1,2,3,4,5,4,3,2,4)\n",
    "my_set = set(my_z)\n",
    "my_set\n"
   ]
  },
  {
   "cell_type": "code",
   "execution_count": 6,
   "metadata": {},
   "outputs": [],
   "source": [
    "i = list(range(0,1000))\n"
   ]
  },
  {
   "cell_type": "markdown",
   "metadata": {},
   "source": [
    "### dir({}) \n",
    "### help(list)\n"
   ]
  },
  {
   "cell_type": "code",
   "execution_count": 32,
   "metadata": {},
   "outputs": [
    {
     "data": {
      "text/plain": [
       "140680457820672"
      ]
     },
     "execution_count": 32,
     "metadata": {},
     "output_type": "execute_result"
    }
   ],
   "source": [
    "id(None)"
   ]
  },
  {
   "cell_type": "code",
   "execution_count": 36,
   "metadata": {},
   "outputs": [
    {
     "name": "stdout",
     "output_type": "stream",
     "text": [
      "140680127780032 140680457971648 140680457971680\n"
     ]
    }
   ],
   "source": [
    "a = [1,2,3]\n",
    "b = [2,3,4]\n",
    "print(id(a), id(a[1]), id(a[2]))"
   ]
  },
  {
   "cell_type": "code",
   "execution_count": 45,
   "metadata": {},
   "outputs": [
    {
     "data": {
      "text/plain": [
       "4122254681097763248"
      ]
     },
     "execution_count": 45,
     "metadata": {},
     "output_type": "execute_result"
    }
   ],
   "source": [
    "#хеш можно взять только от неизменяемого объекта\n",
    "a = \"ddf\"\n",
    "hash(a)"
   ]
  },
  {
   "cell_type": "code",
   "execution_count": 46,
   "metadata": {},
   "outputs": [
    {
     "data": {
      "text/plain": [
       "True"
      ]
     },
     "execution_count": 46,
     "metadata": {},
     "output_type": "execute_result"
    }
   ],
   "source": [
    "isinstance(a,str) # является ли объект нужным типом?"
   ]
  },
  {
   "cell_type": "code",
   "execution_count": 49,
   "metadata": {},
   "outputs": [
    {
     "name": "stdout",
     "output_type": "stream",
     "text": [
      "2, 1, 3, 4, 7, 11, 18, 19\n"
     ]
    }
   ],
   "source": [
    "numbers = [2, 1, 3, 4, 7]\n",
    "more_numbers = [*numbers, 11, 18,19]\n",
    "print(*more_numbers, sep=', ')"
   ]
  },
  {
   "cell_type": "code",
   "execution_count": 50,
   "metadata": {},
   "outputs": [
    {
     "name": "stdout",
     "output_type": "stream",
     "text": [
      "lemon pear watermelon tomato\n",
      "lemon pear watermelon tomato\n"
     ]
    }
   ],
   "source": [
    "fruits = ['lemon', 'pear', 'watermelon', 'tomato']\n",
    "print(fruits[0], fruits[1], fruits[2], fruits[3])\n",
    "print(*fruits)\n"
   ]
  },
  {
   "cell_type": "code",
   "execution_count": 10,
   "metadata": {},
   "outputs": [
    {
     "name": "stdout",
     "output_type": "stream",
     "text": [
      "8555824598908951819849312412527586257974515864854259853626561545762713430638634749847609578214390430099644613382414320409639608524081691205349391982727340085048637663933479234758161447000932306581937775526441533157564878865330008232191188705554589714765029647938422663662081777762295905406312377503850274146063224804208374439350652178043043344682133625403037215166032917670306978536275772307447203355447631000543578070189483372807898176371194103104850241551738280781708203801135205321\n"
     ]
    }
   ],
   "source": [
    "def rec(a,b):\n",
    "    if b == 0:\n",
    "        return 1\n",
    "    else:\n",
    "        return a * rec(a, b-1)\n",
    "\n",
    "a, b = 21, 366\n",
    "print(rec(a,b))\n"
   ]
  },
  {
   "cell_type": "code",
   "execution_count": 14,
   "metadata": {},
   "outputs": [
    {
     "name": "stdout",
     "output_type": "stream",
     "text": [
      "24\n"
     ]
    }
   ],
   "source": [
    "def factorial(n):\n",
    "    if n == 0:\n",
    "        return 1\n",
    "    else:\n",
    "        return n * factorial(n - 1)\n",
    " \n",
    "print(factorial(4))"
   ]
  },
  {
   "cell_type": "code",
   "execution_count": 5,
   "metadata": {},
   "outputs": [
    {
     "name": "stdout",
     "output_type": "stream",
     "text": [
      "1\n",
      "2\n",
      "3\n",
      "4\n",
      "5\n",
      "6\n",
      "7\n",
      "8\n",
      "9\n",
      "None\n"
     ]
    }
   ],
   "source": [
    "def recursion(x):\n",
    "    if x == 10:\n",
    "        res = x\n",
    "        return res\n",
    "    print(x)\n",
    "    recursion(x+1)\n",
    "    \n",
    "print(recursion(1))"
   ]
  },
  {
   "cell_type": "code",
   "execution_count": 7,
   "metadata": {},
   "outputs": [
    {
     "name": "stdout",
     "output_type": "stream",
     "text": [
      "1\n",
      "2\n",
      "3\n",
      "4\n",
      "4\n",
      "3\n",
      "2\n",
      "1\n"
     ]
    }
   ],
   "source": [
    "def recursion(x):\n",
    "    if x < 5:\n",
    "        print(x)\n",
    "        recursion(x+1)\n",
    "        print(x)\n",
    "    \n",
    "recursion(1)"
   ]
  },
  {
   "cell_type": "code",
   "execution_count": null,
   "metadata": {},
   "outputs": [],
   "source": [
    "def fact(x):\n",
    "    if x == 1:\n",
    "        return 1\n",
    "    return fact(x - 1) * x  \n",
    "fact(4)"
   ]
  },
  {
   "cell_type": "code",
   "execution_count": 43,
   "metadata": {},
   "outputs": [
    {
     "data": {
      "text/plain": [
       "8"
      ]
     },
     "execution_count": 43,
     "metadata": {},
     "output_type": "execute_result"
    }
   ],
   "source": [
    "def fibonacci(x):\n",
    "    if x == 1:\n",
    "        return 0\n",
    "    if x == 2:\n",
    "        return 1\n",
    "    return fibonacci(x - 1) + fibonacci(x - 2)  \n",
    "\n",
    "fibonacci(7)"
   ]
  },
  {
   "cell_type": "code",
   "execution_count": 47,
   "metadata": {},
   "outputs": [
    {
     "name": "stdout",
     "output_type": "stream",
     "text": [
      "strdffd\n"
     ]
    },
    {
     "data": {
      "text/plain": [
       "True"
      ]
     },
     "execution_count": 47,
     "metadata": {},
     "output_type": "execute_result"
    }
   ],
   "source": [
    "def polindrome(string):\n",
    "    if len(string) < 1:\n",
    "        return True\n",
    "    if string[0] != string[-1]:\n",
    "        return False\n",
    "    return polindrome(string[1:-1])\n",
    "\n",
    "\n",
    "s = input('str')\n",
    "polindrome(s)"
   ]
  },
  {
   "cell_type": "code",
   "execution_count": 51,
   "metadata": {},
   "outputs": [
    {
     "name": "stdout",
     "output_type": "stream",
     "text": [
      "44444444444444444444444\n",
      "4(4(4(4(4(4(4(4(4(4(4(4)4)4)4)4)4)4)4)4)4)4)4\n"
     ]
    }
   ],
   "source": [
    "def rec(s):\n",
    "    if len(s) == 1 or len(s) ==2:\n",
    "        return s\n",
    "    return s[0] + '(' + rec(s[1:-1]) + ')' + s[-1]\n",
    "\n",
    "s = input()\n",
    "print(rec(s))\n",
    "        \n",
    "        \n",
    "        "
   ]
  },
  {
   "cell_type": "code",
   "execution_count": 55,
   "metadata": {},
   "outputs": [
    {
     "name": "stdout",
     "output_type": "stream",
     "text": [
      "x2\n",
      "n-1\n"
     ]
    },
    {
     "data": {
      "text/plain": [
       "0.5"
      ]
     },
     "execution_count": 55,
     "metadata": {},
     "output_type": "execute_result"
    }
   ],
   "source": [
    "def power(x,n):\n",
    "    if n < 0:\n",
    "        return 1/power(x, -n)   \n",
    "    if n==0:\n",
    "        return 1\n",
    "    if n%2 == 0:\n",
    "        return power(x, n//2) * power(x, n//2)\n",
    "    else:\n",
    "        return power(x,n-1) * x\n",
    "\n",
    "x = int(input('x'))\n",
    "n = int(input('n'))\n",
    "power(x,n)"
   ]
  },
  {
   "cell_type": "code",
   "execution_count": 60,
   "metadata": {},
   "outputs": [
    {
     "name": "stdout",
     "output_type": "stream",
     "text": [
      "1 2 [3, 4, 5, 6] [2, 3, 4, 5, 6] 2 4 [1] level =  1\n",
      "3 4 5 6 level =  2\n",
      "2 3 4 5 6 level =  2\n",
      "1 level =  2\n"
     ]
    }
   ],
   "source": [
    "a = [1,2,[3,4,5,6,],[2,3,4,5,6],2,4,[1]]\n",
    "\n",
    "def rec(my_list, level = 1):\n",
    "    print(*my_list, 'level = ', level)\n",
    "    for i in my_list:\n",
    "        if type(i) == list:\n",
    "            rec(i,level+1)\n",
    "\n",
    "rec(a)"
   ]
  },
  {
   "cell_type": "code",
   "execution_count": 67,
   "metadata": {},
   "outputs": [
    {
     "name": "stdout",
     "output_type": "stream",
     "text": [
      "level =  1 content:  ['gerafoto', 'g2.jpeg', 'photo_2019-03-06_00-12-47.jpg', '3T6A1977а.jpg', 'q2.jpeg', '3T6A1975а.jpg', 'g.jpeg', 'Дарина', 'WhatsApp Image 2019-03-18 at 16.43.02.jpeg', 'foto', '3T6A2017а.jpg']\n",
      "down to  /home/g/MEGAOLD/foto//gerafoto\n",
      "level =  2 content:  ['IMG-20190510-WA0077.jpg']\n",
      "up to  /home/g/MEGAOLD/foto/\n",
      "down to  /home/g/MEGAOLD/foto//Дарина\n",
      "level =  2 content:  ['Darina', 'две подружки']\n",
      "down to  /home/g/MEGAOLD/foto//Дарина/Darina\n",
      "level =  3 content:  ['3T6A8364А.jpg', '3T6A8543аЧб.jpg', '3T6A8555АЧб.jpg', '3T6A8377А.jpg', '3T6A8392АПЧб.jpg', '3T6A8559А.jpg', '3T6A8364АП.jpg', '3T6A8560А.jpg', '3T6A8392А.jpg', '3T6A8543а.jpg', '3T6A8371аЧб.jpg', '3T6A8344А.jpg', '3T6A8392АЧб.jpg', '3T6A8545аЧб.jpg', '3T6A8371а.jpg', '3T6A8358АЧб.jpg', '3T6A8545а.jpg', '3T6A8559АЧб.jpg', '3T6A8383АП.jpg', '3T6A8555А.jpg', '3T6A8358А.jpg']\n",
      "up to  /home/g/MEGAOLD/foto//Дарина\n",
      "down to  /home/g/MEGAOLD/foto//Дарина/две подружки\n",
      "level =  3 content:  ['2019-02-21 19.52.56.JPG', 'DSC_0089.JPG', 'DSC_0548.JPG', '2019-02-21 19.45.47.JPG', 'DSC_0564.JPG', 'DSC_0033.JPG', 'DSC_0365.JPG', 'DSC_0332.JPG', 'DSC_0076.JPG', 'DSC_0424.JPG', 'DSC_0319.JPG', 'DSC_0470.JPG', 'DSC_0374.JPG', 'DSC_0322.JPG', 'DSC_0418.JPG', 'DSC_0412.JPG', 'DSC_0349.JPG', '2019-02-21 19.50.54.JPG', '2019-02-21 19.55.27.JPG', 'DSC_0059.JPG', 'DSC_0370.JPG', 'DSC_0027.JPG', 'DSC_0301.JPG', '2019-02-21 19.33.12.JPG', 'DSC_0069.JPG', 'DSC_0065.JPG', 'DSC_0314.JPG', 'DSC_0306.JPG', '2019-02-21 19.59.32.JPG', 'DSC_0488.JPG', 'DSC_0132.JPG', 'DSC_0397.JPG', '2019-02-21 19.53.44.JPG', 'DSC_0481.JPG', '2019-02-21 19.59.47.JPG', 'DSC_0286.JPG', 'DSC_0085.JPG', 'DSC_0024.JPG', 'DSC_0384.JPG', 'DSC_0100.JPG', 'DSC_0094.JPG', '2019-02-21 19.56.48.JPG', 'DSC_0022.JPG', 'DSC_0523.JPG', 'DSC_0542.JPG', '2019-02-21 19.26.14.JPG', 'DSC_0552.JPG', 'DSC_0282.JPG', 'DSC_0063.JPG', 'DSC_0137.JPG', 'DSC_0057.JPG', '2019-02-21 19.24.42.JPG', '2019-02-21 19.51.07.JPG', 'DSC_0084.JPG', 'DSC_0110.JPG', 'DSC_0095.JPG', '2019-02-21 19.58.33.JPG', '2019-02-21 19.55.52.JPG', 'DSC_0207.JPG', '2019-02-21 19.53.08.JPG', 'DSC_0496.JPG', 'DSC_0455.JPG', 'DSC_0006.JPG', 'DSC_0299.JPG', 'DSC_0452.JPG', 'DSC_0479.JPG', 'DSC_0071.JPG', 'DSC_0125.JPG', 'DSC_0235.JPG', 'DSC_0078.JPG', 'DSC_0116.JPG', 'DSC_0417.JPG', 'DSC_0358.JPG', 'DSC_0227.JPG', 'DSC_0561.JPG', '2019-02-21 19.54.25.JPG', 'DSC_0113.JPG', 'DSC_0238.JPG', 'DSC_0242.JPG', 'DSC_0435.JPG', '2019-02-21 19.25.11.JPG', 'DSC_0247.JPG', '2019-02-21 19.53.28.JPG', '2019-02-21 19.56.54.JPG', 'DSC_0251.JPG', '2019-02-23 16.39.06.JPG', 'DSC_0049.JPG', 'DSC_0212.JPG', 'DSC_0414.JPG', 'DSC_0127.JPG', 'DSC_0009.JPG', 'DSC_0434.JPG', 'DSC_0038.JPG', 'DSC_0472.JPG', 'DSC_0584.JPG', '2019-02-21 19.29.56.JPG', 'DSC_0421.JPG', 'DSC_0025.JPG', 'DSC_0029.JPG', 'DSC_0276.JPG', 'DSC_0340.JPG', 'DSC_0064.JPG', 'DSC_0376.JPG', 'DSC_0145.JPG', 'DSC_0453.JPG', '2019-02-21 19.58.37.JPG', 'DSC_0411.JPG', '2019-02-21 19.51.14.JPG', 'DSC_0375.JPG', '2019-02-21 19.32.24.JPG', 'DSC_0524.JPG', '2019-02-21 19.59.34.JPG', 'DSC_0017.JPG', 'DSC_0018.JPG', 'DSC_0133.JPG', 'DSC_0202.JPG']\n",
      "up to  /home/g/MEGAOLD/foto//Дарина\n",
      "up to  /home/g/MEGAOLD/foto/\n",
      "down to  /home/g/MEGAOLD/foto//foto\n",
      "level =  2 content:  ['3T6A1998а.jpg', '3T6A2014а.jpg', '3T6A1994а.jpg', '3T6A2022а.jpg', '3T6A2006а.jpg']\n",
      "up to  /home/g/MEGAOLD/foto/\n"
     ]
    }
   ],
   "source": [
    "import os\n",
    "\n",
    "path = '/home/g/MEGAOLD/foto/'\n",
    "\n",
    "def obhod_dir(path,level=1):\n",
    "    print('level = ', level, 'content: ', os.listdir(path))\n",
    "    for i in os.listdir(path):\n",
    "        if os.path.isdir(path+'/'+i):\n",
    "            print('down to ', path + '/' +i)\n",
    "            obhod_dir(path + '/' +i,level +1)\n",
    "            print('up to ',path)\n",
    "    \n",
    "obhod_dir(path)\n",
    "\n",
    "\n",
    "\n"
   ]
  },
  {
   "cell_type": "code",
   "execution_count": null,
   "metadata": {},
   "outputs": [],
   "source": []
  },
  {
   "cell_type": "code",
   "execution_count": null,
   "metadata": {},
   "outputs": [],
   "source": []
  }
 ],
 "metadata": {
  "kernelspec": {
   "display_name": "Python 3",
   "language": "python",
   "name": "python3"
  },
  "language_info": {
   "codemirror_mode": {
    "name": "ipython",
    "version": 3
   },
   "file_extension": ".py",
   "mimetype": "text/x-python",
   "name": "python",
   "nbconvert_exporter": "python",
   "pygments_lexer": "ipython3",
   "version": "3.8.0"
  }
 },
 "nbformat": 4,
 "nbformat_minor": 2
}
