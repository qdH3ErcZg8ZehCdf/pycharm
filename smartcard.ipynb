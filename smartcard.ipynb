{
 "cells": [
  {
   "cell_type": "code",
   "execution_count": 1,
   "metadata": {},
   "outputs": [
    {
     "name": "stdout",
     "output_type": "stream",
     "text": [
      "['Alcor Micro AU9560 00 00']\n"
     ]
    }
   ],
   "source": [
    "from smartcard.System import readers\n",
    "from smartcard.util import toHexString\n",
    "r=readers()\n",
    "print(r)\n",
    "    "
   ]
  },
  {
   "cell_type": "code",
   "execution_count": 23,
   "metadata": {},
   "outputs": [
    {
     "name": "stdout",
     "output_type": "stream",
     "text": [
      "110 0\n"
     ]
    }
   ],
   "source": [
    "connection = r[0].createConnection()\n",
    "connection.connect()\n",
    "SELECT = [0xA0, 0xA4, 0x00, 0x00, 0x02]\n",
    "DF_TELECOM = [0x7F, 0x10]\n",
    "data, sw1, sw2 = connection.transmit( SELECT + DF_TELECOM )\n",
    "print(sw1, sw2)"
   ]
  },
  {
   "cell_type": "code",
   "execution_count": 42,
   "metadata": {},
   "outputs": [
    {
     "name": "stdout",
     "output_type": "stream",
     "text": [
      "3B 9E 95 80 1F C3 80 31 A0 73 BE 21 13 67 29 02 01 01 81 CD B9\n",
      "historical bytes:  80 31 A0 73 BE 21 13 67 29 02 01 01 81 CD\n",
      "checksum:  0xB9\n",
      "checksum OK:  True\n",
      "T0  supported:  True\n",
      "T1  supported:  False\n",
      "T15 supported:  True\n"
     ]
    }
   ],
   "source": [
    "#! /usr/bin/env python\n",
    "# \"\"\"\n",
    "# Sample script for the smartcard.ATR utility class.\n",
    "\n",
    "# __author__ = \"http://www.gemalto.com\"\n",
    "\n",
    "# Copyright 2001-2009 gemalto\n",
    "# Author: Jean-Daniel Aussel, mailto:jean-daniel.aussel@gemalto.com\n",
    "\n",
    "# This file is part of pyscard.\n",
    "\n",
    "# pyscard is free software; you can redistribute it and/or modify\n",
    "# it under the terms of the GNU Lesser General Public License as published by\n",
    "# the Free Software Foundation; either version 2.1 of the License, or\n",
    "# (at your option) any later version.\n",
    "\n",
    "# pyscard is distributed in the hope that it will be useful,\n",
    "# but WITHOUT ANY WARRANTY; without even the implied warranty of\n",
    "# MERCHANTABILITY or FITNESS FOR A PARTICULAR PURPOSE.  See the\n",
    "# GNU Lesser General Public License for more details.\n",
    "\n",
    "# You should have received a copy of the GNU Lesser General Public License\n",
    "# along with pyscard; if not, write to the Free Software\n",
    "# Foundation, Inc., 51 Franklin St, Fifth Floor, Boston, MA  02110-1301  USA\n",
    "# \"\"\"\n",
    "from __future__ import print_function\n",
    "from smartcard.ATR import ATR\n",
    "from smartcard.util import toHexString\n",
    "\n",
    "atr = ATR([0x3B, 0x9E, 0x95, 0x80, 0x1F, 0xC3, 0x80, 0x31, 0xA0, 0x73,\n",
    "           0xBE, 0x21, 0x13, 0x67, 0x29, 0x02, 0x01, 0x01, 0x81,\n",
    "           0xCD, 0xB9])\n",
    "\n",
    "print(atr)\n",
    "print('historical bytes: ', toHexString(atr.getHistoricalBytes()))\n",
    "print('checksum: ', \"0x%X\" % atr.getChecksum())\n",
    "print('checksum OK: ', atr.checksumOK)\n",
    "print('T0  supported: ', atr.isT0Supported())\n",
    "print('T1  supported: ', atr.isT1Supported())\n",
    "print('T15 supported: ', atr.isT15Supported())"
   ]
  },
  {
   "cell_type": "code",
   "execution_count": 46,
   "metadata": {},
   "outputs": [
    {
     "ename": "CardRequestTimeoutException",
     "evalue": "Time-out during card request",
     "output_type": "error",
     "traceback": [
      "\u001b[0;31m---------------------------------------------------------------------------\u001b[0m",
      "\u001b[0;31mCardRequestTimeoutException\u001b[0m               Traceback (most recent call last)",
      "\u001b[0;32m<ipython-input-46-44edf8c025c2>\u001b[0m in \u001b[0;36m<module>\u001b[0;34m\u001b[0m\n\u001b[1;32m      4\u001b[0m \u001b[0mcardtype\u001b[0m \u001b[0;34m=\u001b[0m \u001b[0mATRCardType\u001b[0m\u001b[0;34m(\u001b[0m \u001b[0mtoBytes\u001b[0m\u001b[0;34m(\u001b[0m \u001b[0;34m\"3B 16 94 20 02 01 00 00 0D\"\u001b[0m \u001b[0;34m)\u001b[0m \u001b[0;34m)\u001b[0m\u001b[0;34m\u001b[0m\u001b[0;34m\u001b[0m\u001b[0m\n\u001b[1;32m      5\u001b[0m \u001b[0mcardrequest\u001b[0m \u001b[0;34m=\u001b[0m \u001b[0mCardRequest\u001b[0m\u001b[0;34m(\u001b[0m \u001b[0mtimeout\u001b[0m\u001b[0;34m=\u001b[0m\u001b[0;36m1\u001b[0m\u001b[0;34m,\u001b[0m \u001b[0mcardType\u001b[0m\u001b[0;34m=\u001b[0m\u001b[0mcardtype\u001b[0m \u001b[0;34m)\u001b[0m\u001b[0;34m\u001b[0m\u001b[0;34m\u001b[0m\u001b[0m\n\u001b[0;32m----> 6\u001b[0;31m \u001b[0mcardservice\u001b[0m \u001b[0;34m=\u001b[0m \u001b[0mcardrequest\u001b[0m\u001b[0;34m.\u001b[0m\u001b[0mwaitforcard\u001b[0m\u001b[0;34m(\u001b[0m\u001b[0;34m)\u001b[0m\u001b[0;34m\u001b[0m\u001b[0;34m\u001b[0m\u001b[0m\n\u001b[0m\u001b[1;32m      7\u001b[0m \u001b[0mcardservice\u001b[0m\u001b[0;34m.\u001b[0m\u001b[0mconnection\u001b[0m\u001b[0;34m.\u001b[0m\u001b[0mconnect\u001b[0m\u001b[0;34m(\u001b[0m\u001b[0;34m)\u001b[0m\u001b[0;34m\u001b[0m\u001b[0;34m\u001b[0m\u001b[0m\n\u001b[1;32m      8\u001b[0m \u001b[0mprint\u001b[0m\u001b[0;34m(\u001b[0m \u001b[0mtoHexString\u001b[0m\u001b[0;34m(\u001b[0m\u001b[0mcardservice\u001b[0m\u001b[0;34m.\u001b[0m\u001b[0mconnection\u001b[0m\u001b[0;34m.\u001b[0m\u001b[0mgetATR\u001b[0m\u001b[0;34m(\u001b[0m\u001b[0;34m)\u001b[0m\u001b[0;34m)\u001b[0m\u001b[0;34m)\u001b[0m\u001b[0;34m\u001b[0m\u001b[0;34m\u001b[0m\u001b[0m\n",
      "\u001b[0;32m/usr/lib/python3.8/site-packages/smartcard/CardRequest.py\u001b[0m in \u001b[0;36mwaitforcard\u001b[0;34m(self)\u001b[0m\n\u001b[1;32m     67\u001b[0m     \u001b[0;32mdef\u001b[0m \u001b[0mwaitforcard\u001b[0m\u001b[0;34m(\u001b[0m\u001b[0mself\u001b[0m\u001b[0;34m)\u001b[0m\u001b[0;34m:\u001b[0m\u001b[0;34m\u001b[0m\u001b[0;34m\u001b[0m\u001b[0m\n\u001b[1;32m     68\u001b[0m         \u001b[0;34m\"\"\"Wait for card insertion and returns a card service.\"\"\"\u001b[0m\u001b[0;34m\u001b[0m\u001b[0;34m\u001b[0m\u001b[0m\n\u001b[0;32m---> 69\u001b[0;31m         \u001b[0;32mreturn\u001b[0m \u001b[0mself\u001b[0m\u001b[0;34m.\u001b[0m\u001b[0mpcsccardrequest\u001b[0m\u001b[0;34m.\u001b[0m\u001b[0mwaitforcard\u001b[0m\u001b[0;34m(\u001b[0m\u001b[0;34m)\u001b[0m\u001b[0;34m\u001b[0m\u001b[0;34m\u001b[0m\u001b[0m\n\u001b[0m\u001b[1;32m     70\u001b[0m \u001b[0;34m\u001b[0m\u001b[0m\n\u001b[1;32m     71\u001b[0m     \u001b[0;32mdef\u001b[0m \u001b[0mwaitforcardevent\u001b[0m\u001b[0;34m(\u001b[0m\u001b[0mself\u001b[0m\u001b[0;34m)\u001b[0m\u001b[0;34m:\u001b[0m\u001b[0;34m\u001b[0m\u001b[0;34m\u001b[0m\u001b[0m\n",
      "\u001b[0;32m/usr/lib/python3.8/site-packages/smartcard/pcsc/PCSCCardRequest.py\u001b[0m in \u001b[0;36mwaitforcard\u001b[0;34m(self)\u001b[0m\n\u001b[1;32m    206\u001b[0m             \u001b[0;32mif\u001b[0m \u001b[0mSCARD_E_TIMEOUT\u001b[0m \u001b[0;34m==\u001b[0m \u001b[0mhresult\u001b[0m\u001b[0;34m:\u001b[0m\u001b[0;34m\u001b[0m\u001b[0;34m\u001b[0m\u001b[0m\n\u001b[1;32m    207\u001b[0m                 \u001b[0;32mif\u001b[0m \u001b[0mevt\u001b[0m\u001b[0;34m.\u001b[0m\u001b[0misSet\u001b[0m\u001b[0;34m(\u001b[0m\u001b[0;34m)\u001b[0m\u001b[0;34m:\u001b[0m\u001b[0;34m\u001b[0m\u001b[0;34m\u001b[0m\u001b[0m\n\u001b[0;32m--> 208\u001b[0;31m                     \u001b[0;32mraise\u001b[0m \u001b[0mCardRequestTimeoutException\u001b[0m\u001b[0;34m(\u001b[0m\u001b[0;34m)\u001b[0m\u001b[0;34m\u001b[0m\u001b[0;34m\u001b[0m\u001b[0m\n\u001b[0m\u001b[1;32m    209\u001b[0m \u001b[0;34m\u001b[0m\u001b[0m\n\u001b[1;32m    210\u001b[0m             \u001b[0;31m# reader vanished before or during the call\u001b[0m\u001b[0;34m\u001b[0m\u001b[0;34m\u001b[0m\u001b[0;34m\u001b[0m\u001b[0m\n",
      "\u001b[0;31mCardRequestTimeoutException\u001b[0m: Time-out during card request"
     ]
    }
   ],
   "source": [
    "from smartcard.CardType import ATRCardType\n",
    "from smartcard.CardRequest import CardRequest\n",
    "from smartcard.util import toHexString, toBytes\n",
    "cardtype = ATRCardType( toBytes( \"3B 16 94 20 02 01 00 00 0D\" ) )\n",
    "cardrequest = CardRequest( timeout=1, cardType=cardtype )\n",
    "cardservice = cardrequest.waitforcard()\n",
    "cardservice.connection.connect()\n",
    "print( toHexString(cardservice.connection.getATR()))"
   ]
  },
  {
   "cell_type": "code",
   "execution_count": 50,
   "metadata": {},
   "outputs": [
    {
     "ename": "CardConnectionException",
     "evalue": "Invalid protocol in transmit: must be CardConnection.T0_protocol, CardConnection.T1_protocol, or CardConnection.RAW_protocol",
     "output_type": "error",
     "traceback": [
      "\u001b[0;31m---------------------------------------------------------------------------\u001b[0m",
      "\u001b[0;31mCardConnectionException\u001b[0m                   Traceback (most recent call last)",
      "\u001b[0;32m<ipython-input-50-39c0f64280ed>\u001b[0m in \u001b[0;36m<module>\u001b[0;34m\u001b[0m\n\u001b[1;32m      1\u001b[0m \u001b[0mSELECT\u001b[0m \u001b[0;34m=\u001b[0m \u001b[0;34m[\u001b[0m\u001b[0;36m0xA0\u001b[0m\u001b[0;34m,\u001b[0m \u001b[0;36m0xA4\u001b[0m\u001b[0;34m,\u001b[0m \u001b[0;36m0x00\u001b[0m\u001b[0;34m,\u001b[0m \u001b[0;36m0x00\u001b[0m\u001b[0;34m,\u001b[0m \u001b[0;36m0x02\u001b[0m\u001b[0;34m]\u001b[0m\u001b[0;34m\u001b[0m\u001b[0;34m\u001b[0m\u001b[0m\n\u001b[1;32m      2\u001b[0m \u001b[0mDF_TELECOM\u001b[0m \u001b[0;34m=\u001b[0m \u001b[0;34m[\u001b[0m\u001b[0;36m0x7F\u001b[0m\u001b[0;34m,\u001b[0m \u001b[0;36m0x10\u001b[0m\u001b[0;34m]\u001b[0m\u001b[0;34m\u001b[0m\u001b[0;34m\u001b[0m\u001b[0m\n\u001b[0;32m----> 3\u001b[0;31m \u001b[0mdata\u001b[0m\u001b[0;34m,\u001b[0m \u001b[0msw1\u001b[0m\u001b[0;34m,\u001b[0m \u001b[0msw2\u001b[0m \u001b[0;34m=\u001b[0m \u001b[0mcardservice\u001b[0m\u001b[0;34m.\u001b[0m\u001b[0mconnection\u001b[0m\u001b[0;34m.\u001b[0m\u001b[0mtransmit\u001b[0m\u001b[0;34m(\u001b[0m \u001b[0mSELECT\u001b[0m \u001b[0;34m+\u001b[0m \u001b[0mDF_TELECOM\u001b[0m \u001b[0;34m)\u001b[0m\u001b[0;34m\u001b[0m\u001b[0;34m\u001b[0m\u001b[0m\n\u001b[0m\u001b[1;32m      4\u001b[0m \u001b[0mprint\u001b[0m\u001b[0;34m(\u001b[0m\u001b[0msw1\u001b[0m\u001b[0;34m,\u001b[0m \u001b[0msw2\u001b[0m\u001b[0;34m)\u001b[0m\u001b[0;34m\u001b[0m\u001b[0;34m\u001b[0m\u001b[0m\n",
      "\u001b[0;32m/usr/lib/python3.8/site-packages/smartcard/CardConnectionDecorator.py\u001b[0m in \u001b[0;36mtransmit\u001b[0;34m(self, bytes, protocol)\u001b[0m\n\u001b[1;32m     80\u001b[0m     \u001b[0;32mdef\u001b[0m \u001b[0mtransmit\u001b[0m\u001b[0;34m(\u001b[0m\u001b[0mself\u001b[0m\u001b[0;34m,\u001b[0m \u001b[0mbytes\u001b[0m\u001b[0;34m,\u001b[0m \u001b[0mprotocol\u001b[0m\u001b[0;34m=\u001b[0m\u001b[0;32mNone\u001b[0m\u001b[0;34m)\u001b[0m\u001b[0;34m:\u001b[0m\u001b[0;34m\u001b[0m\u001b[0;34m\u001b[0m\u001b[0m\n\u001b[1;32m     81\u001b[0m         \u001b[0;34m\"\"\"call inner component transmit\"\"\"\u001b[0m\u001b[0;34m\u001b[0m\u001b[0;34m\u001b[0m\u001b[0m\n\u001b[0;32m---> 82\u001b[0;31m         \u001b[0;32mreturn\u001b[0m \u001b[0mself\u001b[0m\u001b[0;34m.\u001b[0m\u001b[0mcomponent\u001b[0m\u001b[0;34m.\u001b[0m\u001b[0mtransmit\u001b[0m\u001b[0;34m(\u001b[0m\u001b[0mbytes\u001b[0m\u001b[0;34m,\u001b[0m \u001b[0mprotocol\u001b[0m\u001b[0;34m)\u001b[0m\u001b[0;34m\u001b[0m\u001b[0;34m\u001b[0m\u001b[0m\n\u001b[0m\u001b[1;32m     83\u001b[0m \u001b[0;34m\u001b[0m\u001b[0m\n\u001b[1;32m     84\u001b[0m     \u001b[0;32mdef\u001b[0m \u001b[0mcontrol\u001b[0m\u001b[0;34m(\u001b[0m\u001b[0mself\u001b[0m\u001b[0;34m,\u001b[0m \u001b[0mcontrolCode\u001b[0m\u001b[0;34m,\u001b[0m \u001b[0mbytes\u001b[0m\u001b[0;34m=\u001b[0m\u001b[0;34m[\u001b[0m\u001b[0;34m]\u001b[0m\u001b[0;34m)\u001b[0m\u001b[0;34m:\u001b[0m\u001b[0;34m\u001b[0m\u001b[0;34m\u001b[0m\u001b[0m\n",
      "\u001b[0;32m/usr/lib/python3.8/site-packages/smartcard/CardConnection.py\u001b[0m in \u001b[0;36mtransmit\u001b[0;34m(self, bytes, protocol)\u001b[0m\n\u001b[1;32m    144\u001b[0m                                        \u001b[0;34m'command'\u001b[0m\u001b[0;34m,\u001b[0m\u001b[0;34m\u001b[0m\u001b[0;34m\u001b[0m\u001b[0m\n\u001b[1;32m    145\u001b[0m                                        [bytes, protocol]))\n\u001b[0;32m--> 146\u001b[0;31m         \u001b[0mdata\u001b[0m\u001b[0;34m,\u001b[0m \u001b[0msw1\u001b[0m\u001b[0;34m,\u001b[0m \u001b[0msw2\u001b[0m \u001b[0;34m=\u001b[0m \u001b[0mself\u001b[0m\u001b[0;34m.\u001b[0m\u001b[0mdoTransmit\u001b[0m\u001b[0;34m(\u001b[0m\u001b[0mbytes\u001b[0m\u001b[0;34m,\u001b[0m \u001b[0mprotocol\u001b[0m\u001b[0;34m)\u001b[0m\u001b[0;34m\u001b[0m\u001b[0;34m\u001b[0m\u001b[0m\n\u001b[0m\u001b[1;32m    147\u001b[0m         \u001b[0mObservable\u001b[0m\u001b[0;34m.\u001b[0m\u001b[0msetChanged\u001b[0m\u001b[0;34m(\u001b[0m\u001b[0mself\u001b[0m\u001b[0;34m)\u001b[0m\u001b[0;34m\u001b[0m\u001b[0;34m\u001b[0m\u001b[0m\n\u001b[1;32m    148\u001b[0m         Observable.notifyObservers(self,\n",
      "\u001b[0;32m/usr/lib/python3.8/site-packages/smartcard/pcsc/PCSCCardConnection.py\u001b[0m in \u001b[0;36mdoTransmit\u001b[0;34m(self, bytes, protocol)\u001b[0m\n\u001b[1;32m    188\u001b[0m         \u001b[0mpcscprotocolheader\u001b[0m \u001b[0;34m=\u001b[0m \u001b[0mtranslateprotocolheader\u001b[0m\u001b[0;34m(\u001b[0m\u001b[0mprotocol\u001b[0m\u001b[0;34m)\u001b[0m\u001b[0;34m\u001b[0m\u001b[0;34m\u001b[0m\u001b[0m\n\u001b[1;32m    189\u001b[0m         \u001b[0;32mif\u001b[0m \u001b[0;36m0\u001b[0m \u001b[0;34m==\u001b[0m \u001b[0mpcscprotocolheader\u001b[0m\u001b[0;34m:\u001b[0m\u001b[0;34m\u001b[0m\u001b[0;34m\u001b[0m\u001b[0m\n\u001b[0;32m--> 190\u001b[0;31m             raise CardConnectionException(\n\u001b[0m\u001b[1;32m    191\u001b[0m                 \u001b[0;34m'Invalid protocol in transmit: must be '\u001b[0m \u001b[0;34m+\u001b[0m\u001b[0;31m \u001b[0m\u001b[0;31m\\\u001b[0m\u001b[0;34m\u001b[0m\u001b[0;34m\u001b[0m\u001b[0m\n\u001b[1;32m    192\u001b[0m                 \u001b[0;34m'CardConnection.T0_protocol, '\u001b[0m \u001b[0;34m+\u001b[0m\u001b[0;31m \u001b[0m\u001b[0;31m\\\u001b[0m\u001b[0;34m\u001b[0m\u001b[0;34m\u001b[0m\u001b[0m\n",
      "\u001b[0;31mCardConnectionException\u001b[0m: Invalid protocol in transmit: must be CardConnection.T0_protocol, CardConnection.T1_protocol, or CardConnection.RAW_protocol"
     ]
    }
   ],
   "source": [
    "SELECT = [0xA0, 0xA4, 0x00, 0x00, 0x02]\n",
    "DF_TELECOM = [0x7F, 0x10]\n",
    "data, sw1, sw2 = cardservice.connection.transmit( SELECT + DF_TELECOM )\n",
    "print(sw1, sw2)"
   ]
  },
  {
   "cell_type": "code",
   "execution_count": 58,
   "metadata": {},
   "outputs": [
    {
     "name": "stdout",
     "output_type": "stream",
     "text": [
      "Alcor Micro AU9560 00 00 3B 6D 00 00 80 31 80 65 49 53 04 03 01 83 07 90 00\n"
     ]
    }
   ],
   "source": [
    "from __future__ import print_function\n",
    "from smartcard.Exceptions import NoCardException\n",
    "from smartcard.System import readers\n",
    "from smartcard.util import toHexString\n",
    "\n",
    "for reader in readers():\n",
    "    try:\n",
    "        connection = reader.createConnection()\n",
    "        connection.connect()\n",
    "        print(reader, toHexString(connection.getATR()))\n",
    "    except NoCardException:\n",
    "        print(reader, 'no card inserted')\n",
    "\n",
    "import sys\n",
    "if 'win32' == sys.platform:\n",
    "    print('press Enter to continue')\n",
    "    sys.stdin.read(1)"
   ]
  },
  {
   "cell_type": "code",
   "execution_count": 59,
   "metadata": {},
   "outputs": [
    {
     "data": {
      "text/plain": [
       "<smartcard.CardType.ATRCardType at 0x7f6be2470ee0>"
      ]
     },
     "execution_count": 59,
     "metadata": {},
     "output_type": "execute_result"
    }
   ],
   "source": [
    "cardtype = ATRCardType( toBytes( \"3B 16 94 20 02 01 00 00 0D\" ) )\n",
    "cardtype"
   ]
  },
  {
   "cell_type": "code",
   "execution_count": 84,
   "metadata": {},
   "outputs": [
    {
     "ename": "CardRequestTimeoutException",
     "evalue": "Time-out during card request",
     "output_type": "error",
     "traceback": [
      "\u001b[0;31m---------------------------------------------------------------------------\u001b[0m",
      "\u001b[0;31mCardRequestTimeoutException\u001b[0m               Traceback (most recent call last)",
      "\u001b[0;32m<ipython-input-84-9e298f591c07>\u001b[0m in \u001b[0;36m<module>\u001b[0;34m\u001b[0m\n\u001b[1;32m      4\u001b[0m \u001b[0mcardtype\u001b[0m \u001b[0;34m=\u001b[0m \u001b[0mATRCardType\u001b[0m\u001b[0;34m(\u001b[0m \u001b[0mtoBytes\u001b[0m\u001b[0;34m(\u001b[0m \u001b[0;34m\"3B 15 94 20 02 01 00 00 0F\"\u001b[0m \u001b[0;34m)\u001b[0m\u001b[0;34m,\u001b[0m \u001b[0mtoBytes\u001b[0m\u001b[0;34m(\u001b[0m \u001b[0;34m\"00 00 FF FF FF FF FF FF 00\"\u001b[0m \u001b[0;34m)\u001b[0m \u001b[0;34m)\u001b[0m\u001b[0;34m\u001b[0m\u001b[0;34m\u001b[0m\u001b[0m\n\u001b[1;32m      5\u001b[0m \u001b[0mcardrequest\u001b[0m \u001b[0;34m=\u001b[0m \u001b[0mCardRequest\u001b[0m\u001b[0;34m(\u001b[0m \u001b[0mtimeout\u001b[0m\u001b[0;34m=\u001b[0m\u001b[0;36m1\u001b[0m\u001b[0;34m,\u001b[0m \u001b[0mcardType\u001b[0m\u001b[0;34m=\u001b[0m\u001b[0mcardtype\u001b[0m \u001b[0;34m)\u001b[0m\u001b[0;34m\u001b[0m\u001b[0;34m\u001b[0m\u001b[0m\n\u001b[0;32m----> 6\u001b[0;31m \u001b[0mcardservice\u001b[0m \u001b[0;34m=\u001b[0m \u001b[0mcardrequest\u001b[0m\u001b[0;34m.\u001b[0m\u001b[0mwaitforcard\u001b[0m\u001b[0;34m(\u001b[0m\u001b[0;34m)\u001b[0m\u001b[0;34m\u001b[0m\u001b[0;34m\u001b[0m\u001b[0m\n\u001b[0m\u001b[1;32m      7\u001b[0m \u001b[0mcardservice\u001b[0m\u001b[0;34m.\u001b[0m\u001b[0mconnection\u001b[0m\u001b[0;34m.\u001b[0m\u001b[0mconnect\u001b[0m\u001b[0;34m(\u001b[0m\u001b[0;34m)\u001b[0m\u001b[0;34m\u001b[0m\u001b[0;34m\u001b[0m\u001b[0m\n\u001b[1;32m      8\u001b[0m \u001b[0mprint\u001b[0m\u001b[0;34m(\u001b[0m\u001b[0mtoHexString\u001b[0m\u001b[0;34m(\u001b[0m \u001b[0mcardservice\u001b[0m\u001b[0;34m.\u001b[0m\u001b[0mconnection\u001b[0m\u001b[0;34m.\u001b[0m\u001b[0mgetATR\u001b[0m\u001b[0;34m(\u001b[0m\u001b[0;34m)\u001b[0m \u001b[0;34m)\u001b[0m\u001b[0;34m)\u001b[0m\u001b[0;34m\u001b[0m\u001b[0;34m\u001b[0m\u001b[0m\n",
      "\u001b[0;32m/usr/lib/python3.8/site-packages/smartcard/CardRequest.py\u001b[0m in \u001b[0;36mwaitforcard\u001b[0;34m(self)\u001b[0m\n\u001b[1;32m     67\u001b[0m     \u001b[0;32mdef\u001b[0m \u001b[0mwaitforcard\u001b[0m\u001b[0;34m(\u001b[0m\u001b[0mself\u001b[0m\u001b[0;34m)\u001b[0m\u001b[0;34m:\u001b[0m\u001b[0;34m\u001b[0m\u001b[0;34m\u001b[0m\u001b[0m\n\u001b[1;32m     68\u001b[0m         \u001b[0;34m\"\"\"Wait for card insertion and returns a card service.\"\"\"\u001b[0m\u001b[0;34m\u001b[0m\u001b[0;34m\u001b[0m\u001b[0m\n\u001b[0;32m---> 69\u001b[0;31m         \u001b[0;32mreturn\u001b[0m \u001b[0mself\u001b[0m\u001b[0;34m.\u001b[0m\u001b[0mpcsccardrequest\u001b[0m\u001b[0;34m.\u001b[0m\u001b[0mwaitforcard\u001b[0m\u001b[0;34m(\u001b[0m\u001b[0;34m)\u001b[0m\u001b[0;34m\u001b[0m\u001b[0;34m\u001b[0m\u001b[0m\n\u001b[0m\u001b[1;32m     70\u001b[0m \u001b[0;34m\u001b[0m\u001b[0m\n\u001b[1;32m     71\u001b[0m     \u001b[0;32mdef\u001b[0m \u001b[0mwaitforcardevent\u001b[0m\u001b[0;34m(\u001b[0m\u001b[0mself\u001b[0m\u001b[0;34m)\u001b[0m\u001b[0;34m:\u001b[0m\u001b[0;34m\u001b[0m\u001b[0;34m\u001b[0m\u001b[0m\n",
      "\u001b[0;32m/usr/lib/python3.8/site-packages/smartcard/pcsc/PCSCCardRequest.py\u001b[0m in \u001b[0;36mwaitforcard\u001b[0;34m(self)\u001b[0m\n\u001b[1;32m    206\u001b[0m             \u001b[0;32mif\u001b[0m \u001b[0mSCARD_E_TIMEOUT\u001b[0m \u001b[0;34m==\u001b[0m \u001b[0mhresult\u001b[0m\u001b[0;34m:\u001b[0m\u001b[0;34m\u001b[0m\u001b[0;34m\u001b[0m\u001b[0m\n\u001b[1;32m    207\u001b[0m                 \u001b[0;32mif\u001b[0m \u001b[0mevt\u001b[0m\u001b[0;34m.\u001b[0m\u001b[0misSet\u001b[0m\u001b[0;34m(\u001b[0m\u001b[0;34m)\u001b[0m\u001b[0;34m:\u001b[0m\u001b[0;34m\u001b[0m\u001b[0;34m\u001b[0m\u001b[0m\n\u001b[0;32m--> 208\u001b[0;31m                     \u001b[0;32mraise\u001b[0m \u001b[0mCardRequestTimeoutException\u001b[0m\u001b[0;34m(\u001b[0m\u001b[0;34m)\u001b[0m\u001b[0;34m\u001b[0m\u001b[0;34m\u001b[0m\u001b[0m\n\u001b[0m\u001b[1;32m    209\u001b[0m \u001b[0;34m\u001b[0m\u001b[0m\n\u001b[1;32m    210\u001b[0m             \u001b[0;31m# reader vanished before or during the call\u001b[0m\u001b[0;34m\u001b[0m\u001b[0;34m\u001b[0m\u001b[0;34m\u001b[0m\u001b[0m\n",
      "\u001b[0;31mCardRequestTimeoutException\u001b[0m: Time-out during card request"
     ]
    }
   ],
   "source": [
    "from smartcard.CardType import ATRCardType\n",
    "from smartcard.CardRequest import CardRequest\n",
    "from smartcard.util import toHexString, toBytes\n",
    "cardtype = ATRCardType( toBytes( \"3B 15 94 20 02 01 00 00 0F\" ), toBytes( \"00 00 FF FF FF FF FF FF 00\" ) )\n",
    "cardrequest = CardRequest( timeout=1, cardType=cardtype )\n",
    "cardservice = cardrequest.waitforcard()\n",
    "cardservice.connection.connect()\n",
    "print(toHexString( cardservice.connection.getATR() ))"
   ]
  },
  {
   "cell_type": "code",
   "execution_count": 97,
   "metadata": {},
   "outputs": [
    {
     "name": "stdout",
     "output_type": "stream",
     "text": [
      "3B 6D 00 00 80 31 80 65 49 53 04 03 01 83 07 90 00\n"
     ]
    }
   ],
   "source": [
    "from smartcard.CardType import AnyCardType\n",
    "from smartcard.CardRequest import CardRequest\n",
    "from smartcard.util import toHexString\n",
    "cardtype = AnyCardType()\n",
    "cardrequest = CardRequest( timeout=1, cardType=cardtype )\n",
    "cardservice = cardrequest.waitforcard()\n",
    "cardservice.connection.connect()\n",
    "print(toHexString( cardservice.connection.getATR() ))\n"
   ]
  },
  {
   "cell_type": "code",
   "execution_count": 87,
   "metadata": {},
   "outputs": [
    {
     "name": "stdout",
     "output_type": "stream",
     "text": [
      "Alcor Micro AU9560 00 00\n"
     ]
    }
   ],
   "source": [
    "print(cardservice.connection.getReader())"
   ]
  },
  {
   "cell_type": "code",
   "execution_count": null,
   "metadata": {},
   "outputs": [],
   "source": []
  },
  {
   "cell_type": "code",
   "execution_count": null,
   "metadata": {},
   "outputs": [],
   "source": []
  },
  {
   "cell_type": "code",
   "execution_count": null,
   "metadata": {},
   "outputs": [],
   "source": []
  },
  {
   "cell_type": "code",
   "execution_count": null,
   "metadata": {},
   "outputs": [],
   "source": []
  },
  {
   "cell_type": "code",
   "execution_count": null,
   "metadata": {},
   "outputs": [],
   "source": []
  },
  {
   "cell_type": "code",
   "execution_count": null,
   "metadata": {},
   "outputs": [],
   "source": []
  },
  {
   "cell_type": "code",
   "execution_count": 7,
   "metadata": {},
   "outputs": [
    {
     "name": "stdout",
     "output_type": "stream",
     "text": [
      "['Alcor Micro AU9560 00 00']\n"
     ]
    }
   ],
   "source": [
    "from smartcard.System import readers\n",
    "from smartcard.util import toHexString\n",
    "r=readers()\n",
    "print(r)\n",
    "\n",
    "# connection = r[0].createConnection()\n",
    "# connection.connect()\n",
    "# SELECT = [0xA0, 0xA4, 0x00, 0x00, 0x02]\n",
    "# DF_TELECOM = [0x7F, 0x10]\n",
    "# data, sw1, sw2 = connection.transmit( SELECT + DF_TELECOM )\n",
    "# print(sw1, sw2)\n",
    "\n"
   ]
  },
  {
   "cell_type": "code",
   "execution_count": 8,
   "metadata": {},
   "outputs": [
    {
     "ename": "CardConnectionException",
     "evalue": "Unable to connect with protocol: T0 or T1. Card is unpowered.",
     "output_type": "error",
     "traceback": [
      "\u001b[0;31m---------------------------------------------------------------------------\u001b[0m",
      "\u001b[0;31mCardConnectionException\u001b[0m                   Traceback (most recent call last)",
      "\u001b[0;32m<ipython-input-8-31e94d8b1bd9>\u001b[0m in \u001b[0;36m<module>\u001b[0;34m\u001b[0m\n\u001b[1;32m      7\u001b[0m     \u001b[0;32mtry\u001b[0m\u001b[0;34m:\u001b[0m\u001b[0;34m\u001b[0m\u001b[0;34m\u001b[0m\u001b[0m\n\u001b[1;32m      8\u001b[0m         \u001b[0mconnection\u001b[0m \u001b[0;34m=\u001b[0m \u001b[0mreader\u001b[0m\u001b[0;34m.\u001b[0m\u001b[0mcreateConnection\u001b[0m\u001b[0;34m(\u001b[0m\u001b[0;34m)\u001b[0m\u001b[0;34m\u001b[0m\u001b[0;34m\u001b[0m\u001b[0m\n\u001b[0;32m----> 9\u001b[0;31m         \u001b[0mconnection\u001b[0m\u001b[0;34m.\u001b[0m\u001b[0mconnect\u001b[0m\u001b[0;34m(\u001b[0m\u001b[0;34m)\u001b[0m\u001b[0;34m\u001b[0m\u001b[0;34m\u001b[0m\u001b[0m\n\u001b[0m\u001b[1;32m     10\u001b[0m         \u001b[0mprint\u001b[0m\u001b[0;34m(\u001b[0m\u001b[0mreader\u001b[0m\u001b[0;34m,\u001b[0m \u001b[0mtoHexString\u001b[0m\u001b[0;34m(\u001b[0m\u001b[0mconnection\u001b[0m\u001b[0;34m.\u001b[0m\u001b[0mgetATR\u001b[0m\u001b[0;34m(\u001b[0m\u001b[0;34m)\u001b[0m\u001b[0;34m)\u001b[0m\u001b[0;34m)\u001b[0m\u001b[0;34m\u001b[0m\u001b[0;34m\u001b[0m\u001b[0m\n\u001b[1;32m     11\u001b[0m     \u001b[0;32mexcept\u001b[0m \u001b[0mNoCardException\u001b[0m\u001b[0;34m:\u001b[0m\u001b[0;34m\u001b[0m\u001b[0;34m\u001b[0m\u001b[0m\n",
      "\u001b[0;32m/usr/lib/python3.8/site-packages/smartcard/CardConnectionDecorator.py\u001b[0m in \u001b[0;36mconnect\u001b[0;34m(self, protocol, mode, disposition)\u001b[0m\n\u001b[1;32m     52\u001b[0m     \u001b[0;32mdef\u001b[0m \u001b[0mconnect\u001b[0m\u001b[0;34m(\u001b[0m\u001b[0mself\u001b[0m\u001b[0;34m,\u001b[0m \u001b[0mprotocol\u001b[0m\u001b[0;34m=\u001b[0m\u001b[0;32mNone\u001b[0m\u001b[0;34m,\u001b[0m \u001b[0mmode\u001b[0m\u001b[0;34m=\u001b[0m\u001b[0;32mNone\u001b[0m\u001b[0;34m,\u001b[0m \u001b[0mdisposition\u001b[0m\u001b[0;34m=\u001b[0m\u001b[0;32mNone\u001b[0m\u001b[0;34m)\u001b[0m\u001b[0;34m:\u001b[0m\u001b[0;34m\u001b[0m\u001b[0;34m\u001b[0m\u001b[0m\n\u001b[1;32m     53\u001b[0m         \u001b[0;34m\"\"\"call inner component connect\"\"\"\u001b[0m\u001b[0;34m\u001b[0m\u001b[0;34m\u001b[0m\u001b[0m\n\u001b[0;32m---> 54\u001b[0;31m         \u001b[0mself\u001b[0m\u001b[0;34m.\u001b[0m\u001b[0mcomponent\u001b[0m\u001b[0;34m.\u001b[0m\u001b[0mconnect\u001b[0m\u001b[0;34m(\u001b[0m\u001b[0mprotocol\u001b[0m\u001b[0;34m,\u001b[0m \u001b[0mmode\u001b[0m\u001b[0;34m,\u001b[0m \u001b[0mdisposition\u001b[0m\u001b[0;34m)\u001b[0m\u001b[0;34m\u001b[0m\u001b[0;34m\u001b[0m\u001b[0m\n\u001b[0m\u001b[1;32m     55\u001b[0m \u001b[0;34m\u001b[0m\u001b[0m\n\u001b[1;32m     56\u001b[0m     \u001b[0;32mdef\u001b[0m \u001b[0mdisconnect\u001b[0m\u001b[0;34m(\u001b[0m\u001b[0mself\u001b[0m\u001b[0;34m)\u001b[0m\u001b[0;34m:\u001b[0m\u001b[0;34m\u001b[0m\u001b[0;34m\u001b[0m\u001b[0m\n",
      "\u001b[0;32m/usr/lib/python3.8/site-packages/smartcard/pcsc/PCSCCardConnection.py\u001b[0m in \u001b[0;36mconnect\u001b[0;34m(self, protocol, mode, disposition)\u001b[0m\n\u001b[1;32m    121\u001b[0m                 \u001b[0;32mraise\u001b[0m \u001b[0mNoCardException\u001b[0m\u001b[0;34m(\u001b[0m\u001b[0;34m'Unable to connect'\u001b[0m\u001b[0;34m,\u001b[0m \u001b[0mhresult\u001b[0m\u001b[0;34m=\u001b[0m\u001b[0mhresult\u001b[0m\u001b[0;34m)\u001b[0m\u001b[0;34m\u001b[0m\u001b[0;34m\u001b[0m\u001b[0m\n\u001b[1;32m    122\u001b[0m             \u001b[0;32melse\u001b[0m\u001b[0;34m:\u001b[0m\u001b[0;34m\u001b[0m\u001b[0;34m\u001b[0m\u001b[0m\n\u001b[0;32m--> 123\u001b[0;31m                 raise CardConnectionException(\n\u001b[0m\u001b[1;32m    124\u001b[0m                     \u001b[0;34m'Unable to connect with protocol: '\u001b[0m \u001b[0;34m+\u001b[0m\u001b[0;31m \u001b[0m\u001b[0;31m\\\u001b[0m\u001b[0;34m\u001b[0m\u001b[0;34m\u001b[0m\u001b[0m\n\u001b[1;32m    125\u001b[0m                     \u001b[0mdictProtocol\u001b[0m\u001b[0;34m[\u001b[0m\u001b[0mpcscprotocol\u001b[0m\u001b[0;34m]\u001b[0m \u001b[0;34m+\u001b[0m \u001b[0;34m'. '\u001b[0m \u001b[0;34m+\u001b[0m\u001b[0;31m \u001b[0m\u001b[0;31m\\\u001b[0m\u001b[0;34m\u001b[0m\u001b[0;34m\u001b[0m\u001b[0m\n",
      "\u001b[0;31mCardConnectionException\u001b[0m: Unable to connect with protocol: T0 or T1. Card is unpowered."
     ]
    }
   ],
   "source": [
    "from __future__ import print_function\n",
    "from smartcard.Exceptions import NoCardException\n",
    "from smartcard.System import readers\n",
    "from smartcard.util import toHexString\n",
    "\n",
    "for reader in readers():\n",
    "    try:\n",
    "        connection = reader.createConnection()\n",
    "        connection.connect()\n",
    "        print(reader, toHexString(connection.getATR()))\n",
    "    except NoCardException:\n",
    "        print(reader, 'no card inserted')\n"
   ]
  },
  {
   "cell_type": "code",
   "execution_count": 8,
   "metadata": {},
   "outputs": [
    {
     "name": "stdout",
     "output_type": "stream",
     "text": [
      "insert a card (SIM card if possible) within 10s\n",
      "disconnecting from Alcor Micro AU9560 00 00\n",
      "disconnecting from Alcor Micro AU9560 00 00\n",
      "connecting to Alcor Micro AU9560 00 00\n",
      "> A0 A4 00 00 02 7F 10\n",
      "<  [] 6E 00\n",
      "no DF_TELECOM\n"
     ]
    }
   ],
   "source": [
    "from __future__ import print_function\n",
    "from smartcard.CardType import AnyCardType\n",
    "from smartcard.CardRequest import CardRequest\n",
    "from smartcard.CardConnectionObserver import ConsoleCardConnectionObserver\n",
    "from smartcard.Exceptions import CardRequestTimeoutException\n",
    "\n",
    "# define the apdus used in this script\n",
    "GET_RESPONSE = [0XA0, 0XC0, 00, 00]\n",
    "SELECT = [0xA0, 0xA4, 0x00, 0x00, 0x02]\n",
    "DF_TELECOM = [0x7F, 0x10]\n",
    "\n",
    "# request any card type\n",
    "cardtype = AnyCardType()\n",
    "\n",
    "try:\n",
    "    # request card insertion\n",
    "    print('insert a card (SIM card if possible) within 10s')\n",
    "    cardrequest = CardRequest(timeout=10, cardType=cardtype)\n",
    "    cardservice = cardrequest.waitforcard()\n",
    "\n",
    "    # attach the console tracer\n",
    "    observer = ConsoleCardConnectionObserver()\n",
    "    cardservice.connection.addObserver(observer)\n",
    "\n",
    "    # connect to the card and perform a few transmits\n",
    "    cardservice.connection.connect()\n",
    "\n",
    "    apdu = SELECT + DF_TELECOM\n",
    "    response, sw1, sw2 = cardservice.connection.transmit(apdu)\n",
    "\n",
    "    # there is a DF_TELECOM\n",
    "    if sw1 == 0x9F:\n",
    "        apdu = GET_RESPONSE + [sw2]\n",
    "        response, sw1, sw2 = cardservice.connection.transmit(apdu)\n",
    "\n",
    "    else:\n",
    "        print('no DF_TELECOM')\n",
    "\n",
    "except CardRequestTimeoutException:\n",
    "    print('time-out: no card inserted during last 10s')\n",
    "\n",
    "import sys\n",
    "if 'win32' == sys.platform:\n",
    "    print('press Enter to continue')\n",
    "    sys.stdin.read(1)"
   ]
  },
  {
   "cell_type": "code",
   "execution_count": 20,
   "metadata": {},
   "outputs": [
    {
     "name": "stdout",
     "output_type": "stream",
     "text": [
      "disconnecting from Alcor Micro AU9560 00 00\n",
      "disconnecting from Alcor Micro AU9560 00 00\n",
      "connecting to Alcor Micro AU9560 00 00\n",
      "disconnecting from Alcor Micro AU9560 00 00\n"
     ]
    },
    {
     "ename": "CardConnectionException",
     "evalue": "Unable to connect with protocol: T0 or T1. Card is unpowered.",
     "output_type": "error",
     "traceback": [
      "\u001b[0;31m---------------------------------------------------------------------------\u001b[0m",
      "\u001b[0;31mCardConnectionException\u001b[0m                   Traceback (most recent call last)",
      "\u001b[0;32m<ipython-input-20-7389cea84624>\u001b[0m in \u001b[0;36m<module>\u001b[0;34m\u001b[0m\n\u001b[1;32m     76\u001b[0m \u001b[0;31m# connect and send APDUs\u001b[0m\u001b[0;34m\u001b[0m\u001b[0;34m\u001b[0m\u001b[0;34m\u001b[0m\u001b[0m\n\u001b[1;32m     77\u001b[0m \u001b[0;31m# the observer will trace on the console\u001b[0m\u001b[0;34m\u001b[0m\u001b[0;34m\u001b[0m\u001b[0;34m\u001b[0m\u001b[0m\n\u001b[0;32m---> 78\u001b[0;31m \u001b[0mcardservice\u001b[0m\u001b[0;34m.\u001b[0m\u001b[0mconnection\u001b[0m\u001b[0;34m.\u001b[0m\u001b[0mconnect\u001b[0m\u001b[0;34m(\u001b[0m\u001b[0;34m)\u001b[0m\u001b[0;34m\u001b[0m\u001b[0;34m\u001b[0m\u001b[0m\n\u001b[0m\u001b[1;32m     79\u001b[0m \u001b[0;34m\u001b[0m\u001b[0m\n\u001b[1;32m     80\u001b[0m \u001b[0mapdu\u001b[0m \u001b[0;34m=\u001b[0m \u001b[0mSELECT\u001b[0m \u001b[0;34m+\u001b[0m \u001b[0mDF_TELECOM\u001b[0m\u001b[0;34m\u001b[0m\u001b[0;34m\u001b[0m\u001b[0m\n",
      "\u001b[0;32m/usr/lib/python3.8/site-packages/smartcard/CardConnectionDecorator.py\u001b[0m in \u001b[0;36mconnect\u001b[0;34m(self, protocol, mode, disposition)\u001b[0m\n\u001b[1;32m     52\u001b[0m     \u001b[0;32mdef\u001b[0m \u001b[0mconnect\u001b[0m\u001b[0;34m(\u001b[0m\u001b[0mself\u001b[0m\u001b[0;34m,\u001b[0m \u001b[0mprotocol\u001b[0m\u001b[0;34m=\u001b[0m\u001b[0;32mNone\u001b[0m\u001b[0;34m,\u001b[0m \u001b[0mmode\u001b[0m\u001b[0;34m=\u001b[0m\u001b[0;32mNone\u001b[0m\u001b[0;34m,\u001b[0m \u001b[0mdisposition\u001b[0m\u001b[0;34m=\u001b[0m\u001b[0;32mNone\u001b[0m\u001b[0;34m)\u001b[0m\u001b[0;34m:\u001b[0m\u001b[0;34m\u001b[0m\u001b[0;34m\u001b[0m\u001b[0m\n\u001b[1;32m     53\u001b[0m         \u001b[0;34m\"\"\"call inner component connect\"\"\"\u001b[0m\u001b[0;34m\u001b[0m\u001b[0;34m\u001b[0m\u001b[0m\n\u001b[0;32m---> 54\u001b[0;31m         \u001b[0mself\u001b[0m\u001b[0;34m.\u001b[0m\u001b[0mcomponent\u001b[0m\u001b[0;34m.\u001b[0m\u001b[0mconnect\u001b[0m\u001b[0;34m(\u001b[0m\u001b[0mprotocol\u001b[0m\u001b[0;34m,\u001b[0m \u001b[0mmode\u001b[0m\u001b[0;34m,\u001b[0m \u001b[0mdisposition\u001b[0m\u001b[0;34m)\u001b[0m\u001b[0;34m\u001b[0m\u001b[0;34m\u001b[0m\u001b[0m\n\u001b[0m\u001b[1;32m     55\u001b[0m \u001b[0;34m\u001b[0m\u001b[0m\n\u001b[1;32m     56\u001b[0m     \u001b[0;32mdef\u001b[0m \u001b[0mdisconnect\u001b[0m\u001b[0;34m(\u001b[0m\u001b[0mself\u001b[0m\u001b[0;34m)\u001b[0m\u001b[0;34m:\u001b[0m\u001b[0;34m\u001b[0m\u001b[0;34m\u001b[0m\u001b[0m\n",
      "\u001b[0;32m/usr/lib/python3.8/site-packages/smartcard/pcsc/PCSCCardConnection.py\u001b[0m in \u001b[0;36mconnect\u001b[0;34m(self, protocol, mode, disposition)\u001b[0m\n\u001b[1;32m    121\u001b[0m                 \u001b[0;32mraise\u001b[0m \u001b[0mNoCardException\u001b[0m\u001b[0;34m(\u001b[0m\u001b[0;34m'Unable to connect'\u001b[0m\u001b[0;34m,\u001b[0m \u001b[0mhresult\u001b[0m\u001b[0;34m=\u001b[0m\u001b[0mhresult\u001b[0m\u001b[0;34m)\u001b[0m\u001b[0;34m\u001b[0m\u001b[0;34m\u001b[0m\u001b[0m\n\u001b[1;32m    122\u001b[0m             \u001b[0;32melse\u001b[0m\u001b[0;34m:\u001b[0m\u001b[0;34m\u001b[0m\u001b[0;34m\u001b[0m\u001b[0m\n\u001b[0;32m--> 123\u001b[0;31m                 raise CardConnectionException(\n\u001b[0m\u001b[1;32m    124\u001b[0m                     \u001b[0;34m'Unable to connect with protocol: '\u001b[0m \u001b[0;34m+\u001b[0m\u001b[0;31m \u001b[0m\u001b[0;31m\\\u001b[0m\u001b[0;34m\u001b[0m\u001b[0;34m\u001b[0m\u001b[0m\n\u001b[1;32m    125\u001b[0m                     \u001b[0mdictProtocol\u001b[0m\u001b[0;34m[\u001b[0m\u001b[0mpcscprotocol\u001b[0m\u001b[0;34m]\u001b[0m \u001b[0;34m+\u001b[0m \u001b[0;34m'. '\u001b[0m \u001b[0;34m+\u001b[0m\u001b[0;31m \u001b[0m\u001b[0;31m\\\u001b[0m\u001b[0;34m\u001b[0m\u001b[0;34m\u001b[0m\u001b[0m\n",
      "\u001b[0;31mCardConnectionException\u001b[0m: Unable to connect with protocol: T0 or T1. Card is unpowered."
     ]
    }
   ],
   "source": [
    "# #! /usr/bin/env python\n",
    "# \"\"\"\n",
    "# Sample script that defines a custom card connection observer.\n",
    "\n",
    "# __author__ = \"http://www.gemalto.com\"\n",
    "\n",
    "# Copyright 2001-2012 gemalto\n",
    "# Author: Jean-Daniel Aussel, mailto:jean-daniel.aussel@gemalto.com\n",
    "\n",
    "# This file is part of pyscard.\n",
    "\n",
    "# pyscard is free software; you can redistribute it and/or modify\n",
    "# it under the terms of the GNU Lesser General Public License as published by\n",
    "# the Free Software Foundation; either version 2.1 of the License, or\n",
    "# (at your option) any later version.\n",
    "\n",
    "# pyscard is distributed in the hope that it will be useful,\n",
    "# but WITHOUT ANY WARRANTY; without even the implied warranty of\n",
    "# MERCHANTABILITY or FITNESS FOR A PARTICULAR PURPOSE.  See the\n",
    "# GNU Lesser General Public License for more details.\n",
    "\n",
    "# You should have received a copy of the GNU Lesser General Public License\n",
    "# along with pyscard; if not, write to the Free Software\n",
    "# Foundation, Inc., 51 Franklin St, Fifth Floor, Boston, MA  02110-1301  USA\n",
    "# \"\"\"\n",
    "from __future__ import print_function\n",
    "from smartcard.CardType import AnyCardType\n",
    "from smartcard.CardRequest import CardRequest\n",
    "from smartcard.CardConnectionObserver import CardConnectionObserver\n",
    "from smartcard.util import toHexString\n",
    "\n",
    "\n",
    "class TracerAndSELECTInterpreter(CardConnectionObserver):\n",
    "    \"\"\"This observer will interprer SELECT and GET RESPONSE bytes\n",
    "    and replace them with a human readable string.\"\"\"\n",
    "\n",
    "    def update(self, cardconnection, ccevent):\n",
    "\n",
    "        if 'connect' == ccevent.type:\n",
    "            print('connecting to ' + cardconnection.getReader())\n",
    "\n",
    "        elif 'disconnect' == ccevent.type:\n",
    "            print('disconnecting from ' + cardconnection.getReader())\n",
    "\n",
    "        elif 'command' == ccevent.type:\n",
    "            str = toHexString(ccevent.args[0])\n",
    "            str = str.replace(\"A0 A4 00 00 02\", \"SELECT\")\n",
    "            str = str.replace(\"A0 C0 00 00\", \"GET RESPONSE\")\n",
    "            print('>', str)\n",
    "\n",
    "        elif 'response' == ccevent.type:\n",
    "            if [] == ccevent.args[0]:\n",
    "                print('<  []', \"%-2X %-2X\" % tuple(ccevent.args[-2:]))\n",
    "            else:\n",
    "                print('<',\n",
    "                      toHexString(ccevent.args[0]),\n",
    "                      \"%-2X %-2X\" % tuple(ccevent.args[-2:]))\n",
    "\n",
    "\n",
    "# define the apdus used in this script\n",
    "GET_RESPONSE = [0XA0, 0XC0, 00, 00]\n",
    "SELECT = [0xA0, 0xA4, 0x00, 0x00, 0x02]\n",
    "DF_TELECOM = [0x7F, 0x10]\n",
    "\n",
    "\n",
    "# we request any type and wait for 10s for card insertion\n",
    "cardtype = AnyCardType()\n",
    "cardrequest = CardRequest(timeout=10, cardType=cardtype)\n",
    "cardservice = cardrequest.waitforcard()\n",
    "\n",
    "# create an instance of our observer and attach to the connection\n",
    "observer = TracerAndSELECTInterpreter()\n",
    "cardservice.connection.addObserver(observer)\n",
    "\n",
    "\n",
    "# connect and send APDUs\n",
    "# the observer will trace on the console\n",
    "cardservice.connection.connect()\n",
    "\n",
    "apdu = SELECT + DF_TELECOM\n",
    "response, sw1, sw2 = cardservice.connection.transmit(apdu)\n",
    "if sw1 == 0x9F:\n",
    "    apdu = GET_RESPONSE + [sw2]\n",
    "    response, sw1, sw2 = cardservice.connection.transmit(apdu)\n",
    "else:\n",
    "    print('no DF_TELECOM')\n",
    "\n",
    "import sys\n",
    "if 'win32' == sys.platform:\n",
    "    print('press Enter to continue')\n",
    "    sys.stdin.read(1)"
   ]
  },
  {
   "cell_type": "code",
   "execution_count": 30,
   "metadata": {},
   "outputs": [
    {
     "ename": "InvalidReaderException",
     "evalue": "Invalid reader: Alcor Micro AU9560 00 00",
     "output_type": "error",
     "traceback": [
      "\u001b[0;31m---------------------------------------------------------------------------\u001b[0m",
      "\u001b[0;31mAttributeError\u001b[0m                            Traceback (most recent call last)",
      "\u001b[0;32m/usr/lib/python3.8/site-packages/smartcard/Session.py\u001b[0m in \u001b[0;36m__init__\u001b[0;34m(self, readerName, cardServiceClass)\u001b[0m\n\u001b[1;32m     73\u001b[0m         \u001b[0;32mtry\u001b[0m\u001b[0;34m:\u001b[0m\u001b[0;34m\u001b[0m\u001b[0;34m\u001b[0m\u001b[0m\n\u001b[0;32m---> 74\u001b[0;31m             \u001b[0mself\u001b[0m\u001b[0;34m.\u001b[0m\u001b[0mreader\u001b[0m\u001b[0;34m\u001b[0m\u001b[0;34m\u001b[0m\u001b[0m\n\u001b[0m\u001b[1;32m     75\u001b[0m         \u001b[0;32mexcept\u001b[0m \u001b[0mAttributeError\u001b[0m\u001b[0;34m:\u001b[0m\u001b[0;34m\u001b[0m\u001b[0;34m\u001b[0m\u001b[0m\n",
      "\u001b[0;31mAttributeError\u001b[0m: 'Session' object has no attribute 'reader'",
      "\nDuring handling of the above exception, another exception occurred:\n",
      "\u001b[0;31mInvalidReaderException\u001b[0m                    Traceback (most recent call last)",
      "\u001b[0;32m<ipython-input-30-4982ebba4f97>\u001b[0m in \u001b[0;36m<module>\u001b[0;34m\u001b[0m\n\u001b[1;32m      5\u001b[0m \u001b[0mreadernum\u001b[0m\u001b[0;34m=\u001b[0m\u001b[0;36m0\u001b[0m\u001b[0;34m\u001b[0m\u001b[0;34m\u001b[0m\u001b[0m\n\u001b[1;32m      6\u001b[0m \u001b[0mreader\u001b[0m\u001b[0;34m=\u001b[0m\u001b[0msmartcard\u001b[0m\u001b[0;34m.\u001b[0m\u001b[0mSystem\u001b[0m\u001b[0;34m.\u001b[0m\u001b[0mreaders\u001b[0m\u001b[0;34m(\u001b[0m\u001b[0;34m)\u001b[0m\u001b[0;34m[\u001b[0m\u001b[0mreadernum\u001b[0m\u001b[0;34m]\u001b[0m\u001b[0;34m\u001b[0m\u001b[0;34m\u001b[0m\u001b[0m\n\u001b[0;32m----> 7\u001b[0;31m \u001b[0msession\u001b[0m \u001b[0;34m=\u001b[0m \u001b[0msmartcard\u001b[0m\u001b[0;34m.\u001b[0m\u001b[0mSession\u001b[0m\u001b[0;34m(\u001b[0m\u001b[0mreader\u001b[0m\u001b[0;34m)\u001b[0m\u001b[0;34m\u001b[0m\u001b[0;34m\u001b[0m\u001b[0m\n\u001b[0m\u001b[1;32m      8\u001b[0m \u001b[0mprint\u001b[0m\u001b[0;34m(\u001b[0m\u001b[0mtoHexString\u001b[0m\u001b[0;34m(\u001b[0m\u001b[0msession\u001b[0m\u001b[0;34m.\u001b[0m\u001b[0mgetATR\u001b[0m\u001b[0;34m(\u001b[0m\u001b[0;34m)\u001b[0m\u001b[0;34m)\u001b[0m\u001b[0;34m)\u001b[0m\u001b[0;34m\u001b[0m\u001b[0;34m\u001b[0m\u001b[0m\n\u001b[1;32m      9\u001b[0m \u001b[0msession\u001b[0m\u001b[0;34m.\u001b[0m\u001b[0mclose\u001b[0m\u001b[0;34m(\u001b[0m\u001b[0;34m)\u001b[0m\u001b[0;34m\u001b[0m\u001b[0;34m\u001b[0m\u001b[0m\n",
      "\u001b[0;32m/usr/lib/python3.8/site-packages/smartcard/Session.py\u001b[0m in \u001b[0;36m__init__\u001b[0;34m(self, readerName, cardServiceClass)\u001b[0m\n\u001b[1;32m     74\u001b[0m             \u001b[0mself\u001b[0m\u001b[0;34m.\u001b[0m\u001b[0mreader\u001b[0m\u001b[0;34m\u001b[0m\u001b[0;34m\u001b[0m\u001b[0m\n\u001b[1;32m     75\u001b[0m         \u001b[0;32mexcept\u001b[0m \u001b[0mAttributeError\u001b[0m\u001b[0;34m:\u001b[0m\u001b[0;34m\u001b[0m\u001b[0;34m\u001b[0m\u001b[0m\n\u001b[0;32m---> 76\u001b[0;31m             \u001b[0;32mraise\u001b[0m \u001b[0mInvalidReaderException\u001b[0m\u001b[0;34m(\u001b[0m\u001b[0mself\u001b[0m\u001b[0;34m.\u001b[0m\u001b[0mreaderName\u001b[0m\u001b[0;34m)\u001b[0m\u001b[0;34m\u001b[0m\u001b[0;34m\u001b[0m\u001b[0m\n\u001b[0m\u001b[1;32m     77\u001b[0m \u001b[0;34m\u001b[0m\u001b[0m\n\u001b[1;32m     78\u001b[0m         \u001b[0;31m# open card connection and bind PassThruCardService\u001b[0m\u001b[0;34m\u001b[0m\u001b[0;34m\u001b[0m\u001b[0;34m\u001b[0m\u001b[0m\n",
      "\u001b[0;31mInvalidReaderException\u001b[0m: Invalid reader: Alcor Micro AU9560 00 00"
     ]
    }
   ],
   "source": [
    "import smartcard.System\n",
    "import smartcard.Session\n",
    "from smartcard.util import toHexString\n",
    "\n",
    "readernum=0\n",
    "reader=smartcard.System.readers()[readernum]\n",
    "session = smartcard.Session(reader)\n",
    "print(toHexString(session.getATR()))\n",
    "session.close()\n",
    "\n",
    "reader=smartcard.System.listReaders()[readernum]\n",
    "session = smartcard.Session(reader)\n",
    "print(toHexString(session.getATR()))\n",
    "session.close()"
   ]
  },
  {
   "cell_type": "code",
   "execution_count": null,
   "metadata": {},
   "outputs": [],
   "source": []
  },
  {
   "cell_type": "code",
   "execution_count": 1,
   "metadata": {},
   "outputs": [
    {
     "ename": "ModuleNotFoundError",
     "evalue": "No module named 'BRutils'",
     "output_type": "error",
     "traceback": [
      "\u001b[0;31m---------------------------------------------------------------------------\u001b[0m",
      "\u001b[0;31mModuleNotFoundError\u001b[0m                       Traceback (most recent call last)",
      "\u001b[0;32m<ipython-input-1-574852590b8d>\u001b[0m in \u001b[0;36m<module>\u001b[0;34m\u001b[0m\n\u001b[1;32m     12\u001b[0m \u001b[0;32mfrom\u001b[0m \u001b[0msmartcard\u001b[0m\u001b[0;34m.\u001b[0m\u001b[0mutil\u001b[0m \u001b[0;32mimport\u001b[0m \u001b[0mtoHexString\u001b[0m\u001b[0;34m\u001b[0m\u001b[0;34m\u001b[0m\u001b[0m\n\u001b[1;32m     13\u001b[0m \u001b[0;32mfrom\u001b[0m \u001b[0msmartcard\u001b[0m\u001b[0;34m.\u001b[0m\u001b[0mExceptions\u001b[0m \u001b[0;32mimport\u001b[0m \u001b[0mCardRequestTimeoutException\u001b[0m\u001b[0;34m\u001b[0m\u001b[0;34m\u001b[0m\u001b[0m\n\u001b[0;32m---> 14\u001b[0;31m \u001b[0;32mimport\u001b[0m \u001b[0mBRutils\u001b[0m \u001b[0;32mas\u001b[0m \u001b[0mutils\u001b[0m\u001b[0;34m\u001b[0m\u001b[0;34m\u001b[0m\u001b[0m\n\u001b[0m\u001b[1;32m     15\u001b[0m \u001b[0;32mimport\u001b[0m \u001b[0mBRcommands\u001b[0m \u001b[0;32mas\u001b[0m \u001b[0mcmds\u001b[0m\u001b[0;34m\u001b[0m\u001b[0;34m\u001b[0m\u001b[0m\n\u001b[1;32m     16\u001b[0m \u001b[0;34m\u001b[0m\u001b[0m\n",
      "\u001b[0;31mModuleNotFoundError\u001b[0m: No module named 'BRutils'"
     ]
    }
   ],
   "source": [
    "#!/usr/bin/python3\n",
    "\n",
    "# Bad Reader\n",
    "# A sandbox program to experiment reading and writing on a SLE4442 \"smart\" card\n",
    "# Author : Heartbroken-Dev\n",
    "# License : Apache License 2.0\n",
    "# Dependencies : pcscd pcsc-tools libpcsclite1 libpcsclite-dev pyscard\n",
    "# Version : PoC 2\n",
    "\n",
    "from smartcard.CardType import AnyCardType\n",
    "from smartcard.CardRequest import CardRequest\n",
    "from smartcard.util import toHexString\n",
    "from smartcard.Exceptions import CardRequestTimeoutException\n",
    "import BRutils as utils\n",
    "import BRcommands as cmds\n",
    "\n",
    "def enterPrompt(cardService):\n",
    "    requestedExit = False\n",
    "    requestedDisconnect = False\n",
    "    cardReader = cardService.connection.getReader() # TODO : to be protected by try..except clause if cardService not connected\n",
    "\n",
    "    while not requestedExit:\n",
    "\n",
    "        cmdIn = input(cardReader + \" >>> \") # or any other prompt-like thing\n",
    "        cmdList = cmdIn.split()\n",
    "\n",
    "        if cmdList[0] == \"disconnect\":\n",
    "            requestedDisconnect = True\n",
    "            requestedExit = True # Required to exit the prompt for reconnection as is\n",
    "            cmds.Disconnect.execute(cardService, cmdList)\n",
    "        elif cmdList[0] == \"exit\":\n",
    "            if not requestedDisconnect:\n",
    "                print(\"Disconnecting card before exiting\") # TODO : Yellow ?\n",
    "                cmds.Disconnect.execute(cardService, cmdList)\n",
    "            print(\"Exiting\")\n",
    "            requestedExit = True\n",
    "        elif cmdList[0] == \"getATR\":\n",
    "            cmds.GetATR.execute(cardService, cmdList)\n",
    "        else: # default to help()\n",
    "            cmds.Help.execute(cardService, cmdList) # TODO : add specific message when there's a typo ?\n",
    "\n",
    "    if requestedDisconnect:\n",
    "        return utils.const.STATUS_PROMPT_DISCONNECTED\n",
    "    else:\n",
    "        return utils.const.STATUS_PROMPT_EXITING\n",
    "\n",
    "def attemptConnection(cardRequest):\n",
    "\n",
    "    stillWaiting = True\n",
    "\n",
    "    print(\"Waiting for card insertion\", flush=True, end='')\n",
    "\n",
    "    while stillWaiting:\n",
    "        try:\n",
    "            stillWaiting = False\n",
    "            print(\".\", flush=True, end='')\n",
    "            cardService = cardRequest.waitforcard()\n",
    "        except CardRequestTimeoutException:\n",
    "            stillWaiting = True\n",
    "\n",
    "    print(\"!\")\n",
    "    cardService.connection.connect()\n",
    "    reader = cardService.connection.getReader()\n",
    "    cardATR = toHexString(cardService.connection.getATR())\n",
    "    print(\"Successfully connected on reader\", reader)\n",
    "    print(\"Card ATR showing\", cardATR)\n",
    "\n",
    "    return cardService\n",
    "\n",
    "def main():\n",
    "\n",
    "    mainCardType = AnyCardType()\n",
    "    mainCardRequest = CardRequest(timeout=1, cardType=mainCardType)\n",
    "\n",
    "    # Introduction\n",
    "    print(\"Bad Reader, PoC\")\n",
    "    print(\"By Heartbroken-Dev, licensed under Apache-2.0\")\n",
    "\n",
    "    while True: # Pseudo do: .. while()\n",
    "\n",
    "        # Attempt to connect to a card\n",
    "        mainCardService = attemptConnection(mainCardRequest)\n",
    "\n",
    "        promptStatus = enterPrompt(mainCardService)\n",
    "\n",
    "        if promptStatus == utils.const.STATUS_PROMPT_EXITING:\n",
    "            break\n",
    "\n",
    "if __name__ == '__main__':\n",
    "    main()"
   ]
  },
  {
   "cell_type": "markdown",
   "metadata": {},
   "source": []
  },
  {
   "cell_type": "code",
   "execution_count": null,
   "metadata": {},
   "outputs": [],
   "source": []
  }
 ],
 "metadata": {
  "kernelspec": {
   "display_name": "Python 3",
   "language": "python",
   "name": "python3"
  },
  "language_info": {
   "codemirror_mode": {
    "name": "ipython",
    "version": 3
   },
   "file_extension": ".py",
   "mimetype": "text/x-python",
   "name": "python",
   "nbconvert_exporter": "python",
   "pygments_lexer": "ipython3",
   "version": "3.8.2"
  }
 },
 "nbformat": 4,
 "nbformat_minor": 2
}
